{
 "cells": [
  {
   "cell_type": "markdown",
   "metadata": {},
   "source": [
    "# Replication Lalonde 1986"
   ]
  },
  {
   "cell_type": "markdown",
   "metadata": {},
   "source": [
    "This notebook replicates results from "
   ]
  },
  {
   "cell_type": "markdown",
   "metadata": {},
   "source": [
    "LaLonde, Robert. “Evaluating the Econometric Evaluations of Training Programs with Experimental Data.” The American Economics Review, pp. 604-620, 1986."
   ]
  },
  {
   "cell_type": "markdown",
   "metadata": {},
   "source": [
    "First we import all necessarie packages"
   ]
  },
  {
   "cell_type": "code",
   "execution_count": 332,
   "metadata": {},
   "outputs": [],
   "source": [
    "from pandas import read_stata\n",
    "from astropy.table import Table, Column\n",
    "from numpy import mean\n",
    "from numpy import std\n",
    "from numpy import sqrt\n",
    "import pandas as pd\n",
    "from sklearn import linear_model\n",
    "import math\n",
    "from scipy import stats\n",
    "import csv"
   ]
  },
  {
   "cell_type": "markdown",
   "metadata": {},
   "source": [
    "Next we have to upload the NSW, PSID and CPS data. The data was downloaded from 'http://users.nber.org/~rdehejia/data/nswdata2.html', but is not available there anymore.\n",
    "It was provided by Dehijia and Wahaba and is the data from their paper "
   ]
  },
  {
   "cell_type": "markdown",
   "metadata": {},
   "source": [
    "Dehejia, Rajeev, and Sadek Wahba. \"Causal Effects in Non-Experimental Studies: Re-Evaluating the Evaluation of Training Programs,\" Journal of the American Statistical Association, Volume 94, Number 448 (December 1999), pp. 1053–1062, 1999."
   ]
  },
  {
   "cell_type": "markdown",
   "metadata": {},
   "source": [
    "It cotains the data of the NSW male participants that were included in the analysis i.e. with complete pre- and postprogramm earnings and that were not in supported work in 1978 or entered the programm before 1976. As well as the PSID-1, PSID-3, CPS-1, CPS-2 and CPS-3 data that were used in the Lalonde paper. The PSID-2 data was not available and the CPS-2 and CPS-3 data differs slightly from Lalondes data. For the exact definition of the comparison groups look at Table 3 footnote a in Lalondes paper."
   ]
  },
  {
   "cell_type": "markdown",
   "metadata": {},
   "source": [
    "We start by importing all necessary packages for this analysis"
   ]
  },
  {
   "cell_type": "code",
   "execution_count": 333,
   "metadata": {},
   "outputs": [],
   "source": [
    "nsw = read_stata('nsw.dta')\n",
    "psid1 = read_stata('psid_controls.dta')\n",
    "psid3 = read_stata('psid_controls3.dta')\n",
    "cps1 = read_stata('cps_controls.dta')\n",
    "cps2 = read_stata('cps_controls2.dta')\n",
    "cps3 = read_stata('cps_controls3.dta')"
   ]
  },
  {
   "cell_type": "markdown",
   "metadata": {},
   "source": [
    "#### Table 1:"
   ]
  },
  {
   "cell_type": "markdown",
   "metadata": {},
   "source": [
    "We will now recreate the part of Table 1 we have the data for. That is to say, the average age, years of schooling, proportion of High School dropouts, proportion of married participants and race, for the NSW male participants."
   ]
  },
  {
   "cell_type": "markdown",
   "metadata": {},
   "source": [
    "As Lalonde uses the data of all NSW participants in table 1, while Dehejia and Wahaba only provided the data of those participants that were later included in the analysis, the results in this replication differ from Lalondes results."
   ]
  },
  {
   "cell_type": "markdown",
   "metadata": {},
   "source": [
    "We start by deviding the data into the treatment and the controll group. The first 297 observations are in the treatment group, the other 425 in the control group."
   ]
  },
  {
   "cell_type": "markdown",
   "metadata": {},
   "source": [
    "We call the data of the treatment group 'nswt' and the controll group data 'nswc'-"
   ]
  },
  {
   "cell_type": "code",
   "execution_count": 334,
   "metadata": {},
   "outputs": [],
   "source": [
    "nswt = nsw[:297]\n",
    "nswc = nsw[297:]"
   ]
  },
  {
   "cell_type": "markdown",
   "metadata": {},
   "source": [
    "Then we calculate the mean and standard deviations of the different charachteristics presented in Table 1 for the treatment and control group."
   ]
  },
  {
   "cell_type": "markdown",
   "metadata": {},
   "source": [
    "#### Mean:"
   ]
  },
  {
   "cell_type": "markdown",
   "metadata": {},
   "source": [
    "Treatment group:"
   ]
  },
  {
   "cell_type": "code",
   "execution_count": 335,
   "metadata": {},
   "outputs": [],
   "source": [
    "nswtage = mean(nswt.age) #average age\n",
    "nswtedu = mean(nswt.education) #Years of schooling\n",
    "nswtnod = mean(nswt.nodegree) #Proportion of High School dropouts\n",
    "nswtbla = mean(nswt.black) #Proportion of black participants\n",
    "nswthis = mean(nswt.hispanic) #Proportion of hispanic participants\n",
    "nswtmar = mean(nswt.married) #Proportion of married participants"
   ]
  },
  {
   "cell_type": "markdown",
   "metadata": {},
   "source": [
    "Control group:"
   ]
  },
  {
   "cell_type": "code",
   "execution_count": 336,
   "metadata": {},
   "outputs": [],
   "source": [
    "nswcage = mean(nswc.age)\n",
    "nswcedu = mean(nswc.education)\n",
    "nswcnod = mean(nswc.nodegree)\n",
    "nswcbla = mean(nswc.black)\n",
    "nswchis = mean(nswc.hispanic)\n",
    "nswcmar = mean(nswc.married)"
   ]
  },
  {
   "cell_type": "markdown",
   "metadata": {},
   "source": [
    "#### Standard deviation:"
   ]
  },
  {
   "cell_type": "markdown",
   "metadata": {},
   "source": [
    "Treatment group:"
   ]
  },
  {
   "cell_type": "code",
   "execution_count": 337,
   "metadata": {},
   "outputs": [],
   "source": [
    "nswtagest = std(nswt.age)\n",
    "nswtedust = std(nswt.education)\n",
    "nswtnodst = std(nswt.nodegree)\n",
    "nswtblast = std(nswt.black)\n",
    "nswthisst = std(nswt.hispanic)\n",
    "nswtmarst = std(nswt.married)"
   ]
  },
  {
   "cell_type": "markdown",
   "metadata": {},
   "source": [
    "Control group:"
   ]
  },
  {
   "cell_type": "code",
   "execution_count": 338,
   "metadata": {},
   "outputs": [],
   "source": [
    "nswcagest = std(nswc.age)\n",
    "nswcedust = std(nswc.education)\n",
    "nswcnodst = std(nswc.nodegree)\n",
    "nswcblast = std(nswc.black)\n",
    "nswchisst = std(nswc.hispanic)\n",
    "nswcmarst = std(nswc.married)"
   ]
  },
  {
   "cell_type": "markdown",
   "metadata": {},
   "source": [
    "With these value we can now can now recreate part of Table 1."
   ]
  },
  {
   "cell_type": "markdown",
   "metadata": {},
   "source": [
    "We call our table 'Table 1' and round our values to two decimal places"
   ]
  },
  {
   "cell_type": "code",
   "execution_count": 339,
   "metadata": {},
   "outputs": [],
   "source": [
    "Table1 =Table()\n",
    "Table1['Variable'] = ['Age', '', 'Years of School','', 'Proportion High school dropouts', '', 'Propotion married','', 'Propotion Black', '', 'Propotion Hispanic', '']\n",
    "Table1['Treatment'] =[round(nswtage,2), [round(nswtagest,2)], round(nswtedu,2), [round(nswtedust,2)], round(nswtnod,2), [round(nswtnodst,2)], round(nswtmar,2), [round(nswtmarst,2)], round(nswtbla,2), [round(nswtblast,2)], round(nswthis,2), [round(nswthisst,2)]]\n",
    "Table1['Control'] =[ round(nswcage,2), [round(nswcagest,2)], round(nswcedu,2), [round(nswcedust,2)], round(nswcnod,2), [round(nswcnodst,2)], round(nswcmar,2), [round(nswcmarst,2)],  round(nswcbla,2), [round(nswcblast,2)], round(nswchis,2), [round(nswchisst,2)]]"
   ]
  },
  {
   "cell_type": "code",
   "execution_count": 340,
   "metadata": {},
   "outputs": [
    {
     "data": {
      "text/html": [
       "<i>Table length=12</i>\n",
       "<table id=\"table1635227212656\" class=\"table-striped table-bordered table-condensed\">\n",
       "<thead><tr><th>Variable</th><th>Treatment</th><th>Control</th></tr></thead>\n",
       "<thead><tr><th>str31</th><th>object</th><th>object</th></tr></thead>\n",
       "<tr><td>Age</td><td>24.63</td><td>24.45</td></tr>\n",
       "<tr><td></td><td>[6.68]</td><td>[6.58]</td></tr>\n",
       "<tr><td>Years of School</td><td>10.38</td><td>10.19</td></tr>\n",
       "<tr><td></td><td>[1.81]</td><td>[1.62]</td></tr>\n",
       "<tr><td>Proportion High school dropouts</td><td>0.73</td><td>0.81</td></tr>\n",
       "<tr><td></td><td>[0.44]</td><td>[0.39]</td></tr>\n",
       "<tr><td>Propotion married</td><td>0.17</td><td>0.16</td></tr>\n",
       "<tr><td></td><td>[0.37]</td><td>[0.36]</td></tr>\n",
       "<tr><td>Propotion Black</td><td>0.8</td><td>0.8</td></tr>\n",
       "<tr><td></td><td>[0.4]</td><td>[0.4]</td></tr>\n",
       "<tr><td>Propotion Hispanic</td><td>0.09</td><td>0.11</td></tr>\n",
       "<tr><td></td><td>[0.29]</td><td>[0.32]</td></tr>\n",
       "</table>"
      ],
      "text/plain": [
       "<Table length=12>\n",
       "            Variable            Treatment Control\n",
       "             str31                object   object\n",
       "------------------------------- --------- -------\n",
       "                            Age     24.63   24.45\n",
       "                                   [6.68]  [6.58]\n",
       "                Years of School     10.38   10.19\n",
       "                                   [1.81]  [1.62]\n",
       "Proportion High school dropouts      0.73    0.81\n",
       "                                   [0.44]  [0.39]\n",
       "              Propotion married      0.17    0.16\n",
       "                                   [0.37]  [0.36]\n",
       "                Propotion Black       0.8     0.8\n",
       "                                    [0.4]   [0.4]\n",
       "             Propotion Hispanic      0.09    0.11\n",
       "                                   [0.29]  [0.32]"
      ]
     },
     "execution_count": 340,
     "metadata": {},
     "output_type": "execute_result"
    }
   ],
   "source": [
    "Table1"
   ]
  },
  {
   "cell_type": "markdown",
   "metadata": {},
   "source": [
    "We can see that our results are relatively close, to Lalondes data"
   ]
  },
  {
   "cell_type": "markdown",
   "metadata": {},
   "source": [
    "#### Table 3:"
   ]
  },
  {
   "cell_type": "markdown",
   "metadata": {},
   "source": [
    "Now we recreate parts of Table 3. This table shows the annual earnings of the treatment, control and comparison group."
   ]
  },
  {
   "cell_type": "markdown",
   "metadata": {},
   "source": [
    "We do not have data on the earnings in 1976 and 1977, so we will not replicate this part of the table."
   ]
  },
  {
   "cell_type": "markdown",
   "metadata": {},
   "source": [
    "We proceede in the same way, as we did for Table 1, by calculating the average earnings for each group and year."
   ]
  },
  {
   "cell_type": "code",
   "execution_count": 341,
   "metadata": {},
   "outputs": [],
   "source": [
    "nswtre75 = mean(nswt.re75)\n",
    "nswtre78 = mean(nswt.re78)\n",
    "\n",
    "nswcre75 = mean(nswc.re75)\n",
    "nswcre78 = mean(nswc.re78)\n",
    "\n",
    "psid1re75 = mean(psid1.re75)\n",
    "psid1re78 = mean(psid1.re78)\n",
    "\n",
    "psid3re75 = mean(psid3.re75)\n",
    "psid3re78 = mean(psid3.re78)\n",
    "\n",
    "cps1re75 = mean(cps1.re75)\n",
    "cps1re78 = mean(cps1.re78)\n",
    "\n",
    "cps2re75 = mean(cps2.re75)\n",
    "cps2re78 = mean(cps2.re78)\n",
    "\n",
    "cps3re75 = mean(cps3.re75)\n",
    "cps3re78 = mean(cps3.re78)"
   ]
  },
  {
   "cell_type": "markdown",
   "metadata": {},
   "source": [
    "Then we calculate the standard errors of these values."
   ]
  },
  {
   "cell_type": "code",
   "execution_count": 342,
   "metadata": {},
   "outputs": [],
   "source": [
    "nswtre75st = stats.sem(nswt.re75, axis=None, ddof=0)\n",
    "nswtre78st = stats.sem(nswt.re78, axis=None, ddof=0)\n",
    "\n",
    "nswcre75st = stats.sem(nswc.re75, axis=None, ddof=0)\n",
    "nswcre78st = stats.sem(nswc.re78, axis=None, ddof=0)\n",
    "\n",
    "psid1re75st = stats.sem(psid1.re75, axis=None, ddof=0)\n",
    "psid1re78st = stats.sem(psid1.re78, axis=None, ddof=0)\n",
    "\n",
    "psid3re75st = stats.sem(psid3.re75, axis=None, ddof=0)\n",
    "psid3re78st = stats.sem(psid3.re78, axis=None, ddof=0)\n",
    "\n",
    "cps1re75st = stats.sem(cps1.re75, axis=None, ddof=0)\n",
    "cps1re78st = stats.sem(cps1.re78, axis=None, ddof=0)\n",
    "\n",
    "cps2re75st = stats.sem(cps2.re75, axis=None, ddof=0)\n",
    "cps2re78st = stats.sem(cps2.re78, axis=None, ddof=0)\n",
    "\n",
    "cps3re75st = stats.sem(cps3.re75, axis=None, ddof=0)\n",
    "cps3re78st = stats.sem(cps3.re78, axis=None, ddof=0)"
   ]
  },
  {
   "cell_type": "markdown",
   "metadata": {},
   "source": [
    "We now round all these values and put them in a table that we call 'Table 3'. We also add the number of observations for each group."
   ]
  },
  {
   "cell_type": "code",
   "execution_count": 343,
   "metadata": {},
   "outputs": [],
   "source": [
    "Table3 = Table()\n",
    "Table3['Year'] = [1975, '', 1978, '', 'Number of Obervations']\n",
    "Table3['Treatments'] = [round(nswtre75), [round(nswtre75st)], round(nswtre78), [round(nswtre78st)], nswt.shape[0]]\n",
    "Table3['Controls'] = [round(nswcre75), [round(nswcre75st)], round(nswcre78), [round(nswcre78st)], nswc.shape[0]]\n",
    "Table3['PSID-1'] = [round(psid1re75), [round(psid1re75st)], round(psid1re78), [round(psid1re78st)], psid1.shape[0]]\n",
    "Table3['PSID-3'] = [round(psid3re75), [round(psid3re75st)], round(psid3re78), [round(psid3re78st)], psid3.shape[0]]\n",
    "Table3['CPS-SSA-1'] = [round(cps1re75), [round(cps1re75st)], round(cps1re78), [round(cps1re78st)], cps1.shape[0]]\n",
    "Table3['CPS-SSA-2'] = [round(cps2re75), [round(cps2re75st)], round(cps2re78), [round(cps2re78st)], cps2.shape[0]]\n",
    "Table3['CPS-SSA-3'] = [round(cps3re75), [round(cps3re75st)], round(cps3re78), [round(cps3re78st)], cps3.shape[0]]"
   ]
  },
  {
   "cell_type": "code",
   "execution_count": 344,
   "metadata": {},
   "outputs": [
    {
     "data": {
      "text/html": [
       "<i>Table length=5</i>\n",
       "<table id=\"table1635227211368\" class=\"table-striped table-bordered table-condensed\">\n",
       "<thead><tr><th>Year</th><th>Treatments</th><th>Controls</th><th>PSID-1</th><th>PSID-3</th><th>CPS-SSA-1</th><th>CPS-SSA-2</th><th>CPS-SSA-3</th></tr></thead>\n",
       "<thead><tr><th>str21</th><th>object</th><th>object</th><th>object</th><th>object</th><th>object</th><th>object</th><th>object</th></tr></thead>\n",
       "<tr><td>1975</td><td>3066</td><td>3027</td><td>19063</td><td>2611</td><td>13651</td><td>7397</td><td>2466</td></tr>\n",
       "<tr><td></td><td>[282.0]</td><td>[252.0]</td><td>[272.0]</td><td>[491.0]</td><td>[73.0]</td><td>[167.0]</td><td>[159.0]</td></tr>\n",
       "<tr><td>1978</td><td>5976</td><td>5090</td><td>21554</td><td>5279</td><td>14847</td><td>10171</td><td>6984</td></tr>\n",
       "<tr><td></td><td>[401.0]</td><td>[277.0]</td><td>[312.0]</td><td>[683.0]</td><td>[76.0]</td><td>[182.0]</td><td>[352.0]</td></tr>\n",
       "<tr><td>Number of Obervations</td><td>297</td><td>425</td><td>2490</td><td>128</td><td>15992</td><td>2369</td><td>429</td></tr>\n",
       "</table>"
      ],
      "text/plain": [
       "<Table length=5>\n",
       "         Year         Treatments Controls ... CPS-SSA-1 CPS-SSA-2 CPS-SSA-3\n",
       "        str21           object    object  ...   object    object    object \n",
       "--------------------- ---------- -------- ... --------- --------- ---------\n",
       "                 1975       3066     3027 ...     13651      7397      2466\n",
       "                         [282.0]  [252.0] ...    [73.0]   [167.0]   [159.0]\n",
       "                 1978       5976     5090 ...     14847     10171      6984\n",
       "                         [401.0]  [277.0] ...    [76.0]   [182.0]   [352.0]\n",
       "Number of Obervations        297      425 ...     15992      2369       429"
      ]
     },
     "execution_count": 344,
     "metadata": {},
     "output_type": "execute_result"
    }
   ],
   "source": [
    "Table3"
   ]
  },
  {
   "cell_type": "markdown",
   "metadata": {},
   "source": [
    "The CPS-2 and CPS-3 data differs from the data in Lalondes paper, which explains why the results differ slightly from Lalondes results."
   ]
  },
  {
   "cell_type": "markdown",
   "metadata": {},
   "source": [
    "#### Table 5:"
   ]
  },
  {
   "cell_type": "markdown",
   "metadata": {},
   "source": [
    "Now we can recreate Table 5. This table shows the earnings comparisons and estimated treatment effects of the NSW male participants."
   ]
  },
  {
   "cell_type": "markdown",
   "metadata": {},
   "source": [
    "###### Earning Growth"
   ]
  },
  {
   "cell_type": "markdown",
   "metadata": {},
   "source": [
    "The first collumn shows the earning growth between 1975 and 1978 of each comparison group."
   ]
  },
  {
   "cell_type": "markdown",
   "metadata": {},
   "source": [
    "In order to replicate this column, we simple substract the average earning in 1975 from the average earnings in 1978 for all control groups. We calculatet these values already for Table 3."
   ]
  },
  {
   "cell_type": "markdown",
   "metadata": {},
   "source": [
    "We call this first part of Table 5 'Table 51'."
   ]
  },
  {
   "cell_type": "code",
   "execution_count": 345,
   "metadata": {},
   "outputs": [],
   "source": [
    "Table51 = Table()\n",
    "Table51['Name of Comparison Group'] = ['Controls', 'PSID-1', 'PSID-3', 'CPS-SSA-1', 'CPS-SSA-2', 'CPS-SSA-3']\n",
    "Table51['Earnings Growth 75-78'] = [round(nswcre78 - nswcre75), round(psid1re78 - psid1re75), round(psid3re78 - psid3re75), round(cps1re78 - cps1re75), round(cps2re78 - cps2re75), round(cps3re78 - cps3re75)]"
   ]
  },
  {
   "cell_type": "code",
   "execution_count": 346,
   "metadata": {},
   "outputs": [
    {
     "data": {
      "text/html": [
       "<i>Table length=6</i>\n",
       "<table id=\"table1635233092440\" class=\"table-striped table-bordered table-condensed\">\n",
       "<thead><tr><th>Name of Comparison Group</th><th>Earnings Growth 75-78</th></tr></thead>\n",
       "<thead><tr><th>str9</th><th>int32</th></tr></thead>\n",
       "<tr><td>Controls</td><td>2063</td></tr>\n",
       "<tr><td>PSID-1</td><td>2491</td></tr>\n",
       "<tr><td>PSID-3</td><td>2669</td></tr>\n",
       "<tr><td>CPS-SSA-1</td><td>1196</td></tr>\n",
       "<tr><td>CPS-SSA-2</td><td>2774</td></tr>\n",
       "<tr><td>CPS-SSA-3</td><td>4518</td></tr>\n",
       "</table>"
      ],
      "text/plain": [
       "<Table length=6>\n",
       "Name of Comparison Group Earnings Growth 75-78\n",
       "          str9                   int32        \n",
       "------------------------ ---------------------\n",
       "                Controls                  2063\n",
       "                  PSID-1                  2491\n",
       "                  PSID-3                  2669\n",
       "               CPS-SSA-1                  1196\n",
       "               CPS-SSA-2                  2774\n",
       "               CPS-SSA-3                  4518"
      ]
     },
     "execution_count": 346,
     "metadata": {},
     "output_type": "execute_result"
    }
   ],
   "source": [
    "Table51"
   ]
  },
  {
   "cell_type": "markdown",
   "metadata": {},
   "source": [
    "###### Treatment earnings less comparison group earnings, unadjusted"
   ]
  },
  {
   "cell_type": "markdown",
   "metadata": {},
   "source": [
    "Column 2 shows the unadjusted treatment earnings less the comparison groups earnings in 1975 and column 4 the same in 1978."
   ]
  },
  {
   "cell_type": "markdown",
   "metadata": {},
   "source": [
    "In order to replicate those two columns we have to substract those values from each other. Again we already calculated the values for Table 3 and only have to substract them now."
   ]
  },
  {
   "cell_type": "markdown",
   "metadata": {},
   "source": [
    "We recreate those to columns in a table, that we call Table 52"
   ]
  },
  {
   "cell_type": "code",
   "execution_count": 347,
   "metadata": {},
   "outputs": [],
   "source": [
    "Table52 = Table()\n",
    "Table52['Name of Comparison Group'] = ['Controls', 'PSID-1', 'PSID-3', 'CPS-SSA-1', 'CPS-SSA-2', 'CPS-SSA-3']\n",
    "Table52['Treatment Earnings 1975 Unadjusted'] = [round(nswtre75 - nswcre75), round(nswtre75 - psid1re75), round(nswtre75 - psid3re75), round(nswtre75 - cps1re75), round(nswtre75 - cps2re75), round(nswtre75 - cps3re75)]\n",
    "Table52['Treatment Earnings 1978 Unadjusted'] = [round(nswtre78 - nswcre78), round(nswtre78 - psid1re78), round(nswtre78 - psid3re78), round(nswtre78 - cps1re78), round(nswtre78 - cps2re78), round(nswtre78 - cps3re78)]"
   ]
  },
  {
   "cell_type": "code",
   "execution_count": 348,
   "metadata": {
    "scrolled": true
   },
   "outputs": [
    {
     "data": {
      "text/html": [
       "<i>Table length=6</i>\n",
       "<table id=\"table1635225540760\" class=\"table-striped table-bordered table-condensed\">\n",
       "<thead><tr><th>Name of Comparison Group</th><th>Treatment Earnings 1975 Unadjusted</th><th>Treatment Earnings 1978 Unadjusted</th></tr></thead>\n",
       "<thead><tr><th>str9</th><th>int32</th><th>int32</th></tr></thead>\n",
       "<tr><td>Controls</td><td>39</td><td>886</td></tr>\n",
       "<tr><td>PSID-1</td><td>-15997</td><td>-15578</td></tr>\n",
       "<tr><td>PSID-3</td><td>455</td><td>697</td></tr>\n",
       "<tr><td>CPS-SSA-1</td><td>-10585</td><td>-8871</td></tr>\n",
       "<tr><td>CPS-SSA-2</td><td>-4331</td><td>-4195</td></tr>\n",
       "<tr><td>CPS-SSA-3</td><td>600</td><td>-1008</td></tr>\n",
       "</table>"
      ],
      "text/plain": [
       "<Table length=6>\n",
       "Name of Comparison Group ... Treatment Earnings 1978 Unadjusted\n",
       "          str9           ...               int32               \n",
       "------------------------ ... ----------------------------------\n",
       "                Controls ...                                886\n",
       "                  PSID-1 ...                             -15578\n",
       "                  PSID-3 ...                                697\n",
       "               CPS-SSA-1 ...                              -8871\n",
       "               CPS-SSA-2 ...                              -4195\n",
       "               CPS-SSA-3 ...                              -1008"
      ]
     },
     "execution_count": 348,
     "metadata": {},
     "output_type": "execute_result"
    }
   ],
   "source": [
    "Table52"
   ]
  },
  {
   "cell_type": "markdown",
   "metadata": {},
   "source": [
    "###### Treatment earnings less comparison group earnings, adjusted 1975"
   ]
  },
  {
   "cell_type": "markdown",
   "metadata": {},
   "source": [
    "Column 3 and five adjust the results for age, education, race and high school drop out status."
   ]
  },
  {
   "cell_type": "markdown",
   "metadata": {},
   "source": [
    "We start with the NSW control group data."
   ]
  },
  {
   "cell_type": "markdown",
   "metadata": {},
   "source": [
    "As we do not have the column age squarred in our dataframe, we need to add it first. "
   ]
  },
  {
   "cell_type": "code",
   "execution_count": 349,
   "metadata": {
    "scrolled": true
   },
   "outputs": [],
   "source": [
    "# nsw.agesq = nsw.age**2 -> Does not work.\n",
    "# alternative way\n",
    "a = nsw.values\n",
    "b = a[:,2]\n",
    "c = b**2\n",
    "nsw['agesq'] = c"
   ]
  },
  {
   "cell_type": "markdown",
   "metadata": {},
   "source": [
    "The next step is to make the regression. We take treatment (whether a participant was in the treatment group or not), age, education, race, high school drop out status and age squarred as independent variables and earnings in 1975 as dependent variable."
   ]
  },
  {
   "cell_type": "code",
   "execution_count": 350,
   "metadata": {},
   "outputs": [
    {
     "data": {
      "text/plain": [
       "LinearRegression(copy_X=True, fit_intercept=True, n_jobs=None,\n",
       "         normalize=False)"
      ]
     },
     "execution_count": 350,
     "metadata": {},
     "output_type": "execute_result"
    }
   ],
   "source": [
    "reg75nsw = linear_model.LinearRegression()\n",
    "reg75nsw.fit(nsw[['treat','age', 'education','black', 'hispanic', 'nodegree', 'agesq']],nsw.re75)"
   ]
  },
  {
   "cell_type": "markdown",
   "metadata": {},
   "source": [
    "Now we predict the earnings of participants and of non-participants, by setting the variable 'treatment' to 1 and 0."
   ]
  },
  {
   "cell_type": "code",
   "execution_count": 351,
   "metadata": {},
   "outputs": [
    {
     "data": {
      "text/plain": [
       "array([3030.57868592])"
      ]
     },
     "execution_count": 351,
     "metadata": {},
     "output_type": "execute_result"
    }
   ],
   "source": [
    "reg75nsw.predict([[1, mean(nsw.age), mean(nsw.education), mean(nsw.black), mean(nsw.hispanic), mean(nsw.nodegree), mean(nsw.agesq)]])"
   ]
  },
  {
   "cell_type": "code",
   "execution_count": 352,
   "metadata": {},
   "outputs": [
    {
     "data": {
      "text/plain": [
       "array([3051.50462218])"
      ]
     },
     "execution_count": 352,
     "metadata": {},
     "output_type": "execute_result"
    }
   ],
   "source": [
    "reg75nsw.predict([[0, mean(nsw.age), mean(nsw.education), mean(nsw.black), mean(nsw.hispanic), mean(nsw.nodegree), mean(nsw.agesq)]])"
   ]
  },
  {
   "cell_type": "markdown",
   "metadata": {},
   "source": [
    "The predicted earnings for participants are 3030 and the predicted earnings for non-participants are 3051. We substract the non-participant earnings from the participant earnings now. The result is the adjusted value. We call this value re75nswadj."
   ]
  },
  {
   "cell_type": "code",
   "execution_count": 353,
   "metadata": {},
   "outputs": [
    {
     "data": {
      "text/plain": [
       "-21"
      ]
     },
     "execution_count": 353,
     "metadata": {},
     "output_type": "execute_result"
    }
   ],
   "source": [
    "re75nswadj = 3031-3052\n",
    "re75nswadj"
   ]
  },
  {
   "cell_type": "markdown",
   "metadata": {},
   "source": [
    "The adjusted value is -21 Dollars"
   ]
  },
  {
   "cell_type": "markdown",
   "metadata": {},
   "source": [
    "To make the regression for the other values, we have to merge the nsw-treatment-group dataframe with the dataframe of the comparison groups."
   ]
  },
  {
   "cell_type": "markdown",
   "metadata": {},
   "source": [
    "We redefine nswt again, as we have now added age squarred to the nsw dataframe and also need this for the other regressions."
   ]
  },
  {
   "cell_type": "code",
   "execution_count": 354,
   "metadata": {},
   "outputs": [],
   "source": [
    "nswt = nsw[:297]"
   ]
  },
  {
   "cell_type": "markdown",
   "metadata": {},
   "source": [
    "We will need to add age squarred also to the comparison groups and to drop the Earnings in 1974, so that both dataframes can be merged."
   ]
  },
  {
   "cell_type": "code",
   "execution_count": 355,
   "metadata": {},
   "outputs": [],
   "source": [
    "psid1['agesq'] = psid1['age']**2\n",
    "psid1 = psid1.drop('re74',axis=1)"
   ]
  },
  {
   "cell_type": "markdown",
   "metadata": {},
   "source": [
    "Now we can merge the NSW treatment and the PSID-1 data"
   ]
  },
  {
   "cell_type": "code",
   "execution_count": 356,
   "metadata": {},
   "outputs": [],
   "source": [
    "nswpsid1 = pd.concat([nswt, psid1], ignore_index=True, sort=False)"
   ]
  },
  {
   "cell_type": "markdown",
   "metadata": {},
   "source": [
    "From here on we do exactly the same as for the adjusted value of the control variable. We make a regression and substract the predicted earnings of the treatment and comparison group"
   ]
  },
  {
   "cell_type": "code",
   "execution_count": 357,
   "metadata": {},
   "outputs": [
    {
     "data": {
      "text/plain": [
       "LinearRegression(copy_X=True, fit_intercept=True, n_jobs=None,\n",
       "         normalize=False)"
      ]
     },
     "execution_count": 357,
     "metadata": {},
     "output_type": "execute_result"
    }
   ],
   "source": [
    "reg75psid1 = linear_model.LinearRegression()\n",
    "reg75psid1.fit(nswpsid1[['treat','age', 'education','black', 'hispanic', 'nodegree', 'agesq']],nswpsid1.re75)"
   ]
  },
  {
   "cell_type": "code",
   "execution_count": 358,
   "metadata": {},
   "outputs": [
    {
     "data": {
      "text/plain": [
       "array([10547.34896355])"
      ]
     },
     "execution_count": 358,
     "metadata": {},
     "output_type": "execute_result"
    }
   ],
   "source": [
    "reg75psid1.predict([[1, mean(nswpsid1.age), mean(nswpsid1.education), mean(nswpsid1.black), mean(nswpsid1.hispanic), mean(nswpsid1.nodegree), mean(nswpsid1.agesq)]])"
   ]
  },
  {
   "cell_type": "code",
   "execution_count": 359,
   "metadata": {},
   "outputs": [
    {
     "data": {
      "text/plain": [
       "array([18170.99430488])"
      ]
     },
     "execution_count": 359,
     "metadata": {},
     "output_type": "execute_result"
    }
   ],
   "source": [
    "reg75psid1.predict([[0, mean(nswpsid1.age), mean(nswpsid1.education), mean(nswpsid1.black), mean(nswpsid1.hispanic), mean(nswpsid1.nodegree), mean(nswpsid1.agesq)]])"
   ]
  },
  {
   "cell_type": "code",
   "execution_count": 360,
   "metadata": {},
   "outputs": [
    {
     "data": {
      "text/plain": [
       "-7624"
      ]
     },
     "execution_count": 360,
     "metadata": {},
     "output_type": "execute_result"
    }
   ],
   "source": [
    "re75psid1adj = 10547 - 18171\n",
    "re75psid1adj"
   ]
  },
  {
   "cell_type": "markdown",
   "metadata": {},
   "source": [
    "We repeat these steps for the PSID-3 and CPS-SSA- 1, 2 and 3."
   ]
  },
  {
   "cell_type": "markdown",
   "metadata": {},
   "source": [
    "##### PSID-3:"
   ]
  },
  {
   "cell_type": "code",
   "execution_count": 361,
   "metadata": {},
   "outputs": [],
   "source": [
    "psid3['agesq'] = psid3['age']**2\n",
    "psid3 = psid3.drop('re74',axis=1)"
   ]
  },
  {
   "cell_type": "code",
   "execution_count": 362,
   "metadata": {},
   "outputs": [],
   "source": [
    "nswpsid3 = pd.concat([nswt, psid3], ignore_index=True, sort=False)"
   ]
  },
  {
   "cell_type": "code",
   "execution_count": 363,
   "metadata": {},
   "outputs": [
    {
     "data": {
      "text/plain": [
       "LinearRegression(copy_X=True, fit_intercept=True, n_jobs=None,\n",
       "         normalize=False)"
      ]
     },
     "execution_count": 363,
     "metadata": {},
     "output_type": "execute_result"
    }
   ],
   "source": [
    "reg75psid3 = linear_model.LinearRegression()\n",
    "reg75psid3.fit(nswpsid3[['treat','age', 'education','black', 'hispanic', 'nodegree', 'agesq']],nswpsid3.re75)"
   ]
  },
  {
   "cell_type": "code",
   "execution_count": 364,
   "metadata": {},
   "outputs": [
    {
     "data": {
      "text/plain": [
       "array([3065.86858985])"
      ]
     },
     "execution_count": 364,
     "metadata": {},
     "output_type": "execute_result"
    }
   ],
   "source": [
    "reg75psid3.predict([[1, mean(nswpsid3.age), mean(nswpsid3.education), mean(nswpsid3.black), mean(nswpsid3.hispanic), mean(nswpsid3.nodegree), mean(nswpsid3.agesq)]])"
   ]
  },
  {
   "cell_type": "code",
   "execution_count": 365,
   "metadata": {},
   "outputs": [
    {
     "data": {
      "text/plain": [
       "array([2611.22809241])"
      ]
     },
     "execution_count": 365,
     "metadata": {},
     "output_type": "execute_result"
    }
   ],
   "source": [
    "reg75psid3.predict([[0, mean(nswpsid3.age), mean(nswpsid3.education), mean(nswpsid3.black), mean(nswpsid3.hispanic), mean(nswpsid3.nodegree), mean(nswpsid3.agesq)]])"
   ]
  },
  {
   "cell_type": "code",
   "execution_count": 366,
   "metadata": {},
   "outputs": [
    {
     "data": {
      "text/plain": [
       "455"
      ]
     },
     "execution_count": 366,
     "metadata": {},
     "output_type": "execute_result"
    }
   ],
   "source": [
    "re75psid3adj = 3066 - 2611\n",
    "re75psid3adj"
   ]
  },
  {
   "cell_type": "markdown",
   "metadata": {},
   "source": [
    "##### CPS-SSA-1:"
   ]
  },
  {
   "cell_type": "code",
   "execution_count": 367,
   "metadata": {},
   "outputs": [],
   "source": [
    "cps1['agesq'] = cps1['age']**2\n",
    "cps1 = cps1.drop('re74',axis=1)"
   ]
  },
  {
   "cell_type": "code",
   "execution_count": 368,
   "metadata": {},
   "outputs": [],
   "source": [
    "nswcps1 = pd.concat([nswt, cps1], ignore_index=True, sort=False)"
   ]
  },
  {
   "cell_type": "code",
   "execution_count": 369,
   "metadata": {},
   "outputs": [
    {
     "data": {
      "text/plain": [
       "LinearRegression(copy_X=True, fit_intercept=True, n_jobs=None,\n",
       "         normalize=False)"
      ]
     },
     "execution_count": 369,
     "metadata": {},
     "output_type": "execute_result"
    }
   ],
   "source": [
    "reg75cps1 = linear_model.LinearRegression()\n",
    "reg75cps1.fit(nswcps1[['treat','age', 'education','black', 'hispanic', 'nodegree', 'agesq']],nswcps1.re75)"
   ]
  },
  {
   "cell_type": "code",
   "execution_count": 370,
   "metadata": {},
   "outputs": [
    {
     "data": {
      "text/plain": [
       "array([8888.80244224])"
      ]
     },
     "execution_count": 370,
     "metadata": {},
     "output_type": "execute_result"
    }
   ],
   "source": [
    "reg75cps1.predict([[1, mean(nswcps1.age), mean(nswcps1.education), mean(nswcps1.black), mean(nswcps1.hispanic), mean(nswcps1.nodegree), mean(nswcps1.agesq)]])"
   ]
  },
  {
   "cell_type": "code",
   "execution_count": 371,
   "metadata": {},
   "outputs": [
    {
     "data": {
      "text/plain": [
       "array([13542.66520565])"
      ]
     },
     "execution_count": 371,
     "metadata": {},
     "output_type": "execute_result"
    }
   ],
   "source": [
    "reg75cps1.predict([[0, mean(nswcps1.age), mean(nswcps1.education), mean(nswcps1.black), mean(nswcps1.hispanic), mean(nswcps1.nodegree), mean(nswcps1.agesq)]])"
   ]
  },
  {
   "cell_type": "code",
   "execution_count": 372,
   "metadata": {},
   "outputs": [
    {
     "data": {
      "text/plain": [
       "-4654"
      ]
     },
     "execution_count": 372,
     "metadata": {},
     "output_type": "execute_result"
    }
   ],
   "source": [
    "re75cps1adj = 8889 - 13543\n",
    "re75cps1adj"
   ]
  },
  {
   "cell_type": "markdown",
   "metadata": {},
   "source": [
    "##### CPS-SSA-2:"
   ]
  },
  {
   "cell_type": "code",
   "execution_count": 373,
   "metadata": {},
   "outputs": [],
   "source": [
    "cps2['agesq'] = cps2['age']**2\n",
    "cps2 = cps2.drop('re74',axis=1)"
   ]
  },
  {
   "cell_type": "code",
   "execution_count": 374,
   "metadata": {},
   "outputs": [],
   "source": [
    "nswcps2 = pd.concat([nswt, cps2], ignore_index=True, sort=False)"
   ]
  },
  {
   "cell_type": "code",
   "execution_count": 375,
   "metadata": {},
   "outputs": [
    {
     "data": {
      "text/plain": [
       "LinearRegression(copy_X=True, fit_intercept=True, n_jobs=None,\n",
       "         normalize=False)"
      ]
     },
     "execution_count": 375,
     "metadata": {},
     "output_type": "execute_result"
    }
   ],
   "source": [
    "reg75cps2 = linear_model.LinearRegression()\n",
    "reg75cps2.fit(nswcps2[['treat','age', 'education','black', 'hispanic', 'nodegree', 'agesq']],nswcps2.re75)"
   ]
  },
  {
   "cell_type": "code",
   "execution_count": 376,
   "metadata": {},
   "outputs": [
    {
     "data": {
      "text/plain": [
       "array([5031.38131491])"
      ]
     },
     "execution_count": 376,
     "metadata": {},
     "output_type": "execute_result"
    }
   ],
   "source": [
    "reg75cps2.predict([[1, mean(nswcps2.age), mean(nswcps2.education), mean(nswcps2.black), mean(nswcps2.hispanic), mean(nswcps2.nodegree), mean(nswcps2.agesq)]])"
   ]
  },
  {
   "cell_type": "code",
   "execution_count": 377,
   "metadata": {},
   "outputs": [
    {
     "data": {
      "text/plain": [
       "array([7150.84865518])"
      ]
     },
     "execution_count": 377,
     "metadata": {},
     "output_type": "execute_result"
    }
   ],
   "source": [
    "reg75cps2.predict([[0, mean(nswcps2.age), mean(nswcps2.education), mean(nswcps2.black), mean(nswcps2.hispanic), mean(nswcps2.nodegree), mean(nswcps2.agesq)]])"
   ]
  },
  {
   "cell_type": "code",
   "execution_count": 378,
   "metadata": {},
   "outputs": [
    {
     "data": {
      "text/plain": [
       "-2119"
      ]
     },
     "execution_count": 378,
     "metadata": {},
     "output_type": "execute_result"
    }
   ],
   "source": [
    "re75cps2adj = 5031 - 7150\n",
    "re75cps2adj"
   ]
  },
  {
   "cell_type": "markdown",
   "metadata": {},
   "source": [
    "##### CPS-SSA-3:"
   ]
  },
  {
   "cell_type": "code",
   "execution_count": 379,
   "metadata": {},
   "outputs": [],
   "source": [
    "cps3['agesq'] = cps3['age']**2\n",
    "cps3 = cps3.drop('re74',axis=1)"
   ]
  },
  {
   "cell_type": "code",
   "execution_count": 380,
   "metadata": {},
   "outputs": [],
   "source": [
    "nswcps3 = pd.concat([nswt, cps3], ignore_index=True, sort=False)"
   ]
  },
  {
   "cell_type": "code",
   "execution_count": 381,
   "metadata": {},
   "outputs": [
    {
     "data": {
      "text/plain": [
       "LinearRegression(copy_X=True, fit_intercept=True, n_jobs=None,\n",
       "         normalize=False)"
      ]
     },
     "execution_count": 381,
     "metadata": {},
     "output_type": "execute_result"
    }
   ],
   "source": [
    "reg75cps3 = linear_model.LinearRegression()\n",
    "reg75cps3.fit(nswcps3[['treat','age', 'education','black', 'hispanic', 'nodegree', 'agesq']],nswcps3.re75)"
   ]
  },
  {
   "cell_type": "code",
   "execution_count": 382,
   "metadata": {},
   "outputs": [
    {
     "data": {
      "text/plain": [
       "array([3285.59128467])"
      ]
     },
     "execution_count": 382,
     "metadata": {},
     "output_type": "execute_result"
    }
   ],
   "source": [
    "reg75cps3.predict([[1, mean(nswcps3.age), mean(nswcps3.education), mean(nswcps3.black), mean(nswcps3.hispanic), mean(nswcps3.nodegree), mean(nswcps3.agesq)]])"
   ]
  },
  {
   "cell_type": "code",
   "execution_count": 383,
   "metadata": {},
   "outputs": [
    {
     "data": {
      "text/plain": [
       "array([2314.52775315])"
      ]
     },
     "execution_count": 383,
     "metadata": {},
     "output_type": "execute_result"
    }
   ],
   "source": [
    "reg75cps3.predict([[0, mean(nswcps3.age), mean(nswcps3.education), mean(nswcps3.black), mean(nswcps3.hispanic), mean(nswcps3.nodegree), mean(nswcps3.agesq)]])"
   ]
  },
  {
   "cell_type": "code",
   "execution_count": 384,
   "metadata": {},
   "outputs": [
    {
     "data": {
      "text/plain": [
       "971"
      ]
     },
     "execution_count": 384,
     "metadata": {},
     "output_type": "execute_result"
    }
   ],
   "source": [
    "re75cps3adj = 3286 - 2315\n",
    "re75cps3adj"
   ]
  },
  {
   "cell_type": "markdown",
   "metadata": {},
   "source": [
    "###### Treatment earnings less comparison group earnings, adjusted 1978"
   ]
  },
  {
   "cell_type": "markdown",
   "metadata": {},
   "source": [
    "Now we adjust the earnings in the post- training year 1978. The only difference to the adjustment we just did, is that our dependent variable is earnings in 1978 now."
   ]
  },
  {
   "cell_type": "markdown",
   "metadata": {},
   "source": [
    "##### NSW- control group:"
   ]
  },
  {
   "cell_type": "code",
   "execution_count": 385,
   "metadata": {},
   "outputs": [
    {
     "data": {
      "text/plain": [
       "LinearRegression(copy_X=True, fit_intercept=True, n_jobs=None,\n",
       "         normalize=False)"
      ]
     },
     "execution_count": 385,
     "metadata": {},
     "output_type": "execute_result"
    }
   ],
   "source": [
    "reg78nsw = linear_model.LinearRegression()\n",
    "reg78nsw.fit(nsw[['treat','age', 'education','black', 'hispanic', 'nodegree', 'agesq']],nsw.re78)"
   ]
  },
  {
   "cell_type": "code",
   "execution_count": 386,
   "metadata": {},
   "outputs": [
    {
     "data": {
      "text/plain": [
       "array([5924.57939016])"
      ]
     },
     "execution_count": 386,
     "metadata": {},
     "output_type": "execute_result"
    }
   ],
   "source": [
    "reg78nsw.predict([[1, mean(nsw.age), mean(nsw.education), mean(nsw.black), mean(nsw.hispanic), mean(nsw.nodegree), mean(nsw.agesq)]])"
   ]
  },
  {
   "cell_type": "code",
   "execution_count": 387,
   "metadata": {},
   "outputs": [
    {
     "data": {
      "text/plain": [
       "array([5126.22823567])"
      ]
     },
     "execution_count": 387,
     "metadata": {},
     "output_type": "execute_result"
    }
   ],
   "source": [
    "reg78nsw.predict([[0, mean(nsw.age), mean(nsw.education), mean(nsw.black), mean(nsw.hispanic), mean(nsw.nodegree), mean(nsw.agesq)]])"
   ]
  },
  {
   "cell_type": "code",
   "execution_count": 388,
   "metadata": {},
   "outputs": [
    {
     "data": {
      "text/plain": [
       "799"
      ]
     },
     "execution_count": 388,
     "metadata": {},
     "output_type": "execute_result"
    }
   ],
   "source": [
    "re78nswadj = 5925 - 5126\n",
    "re78nswadj"
   ]
  },
  {
   "cell_type": "markdown",
   "metadata": {},
   "source": [
    "##### PSID-1:"
   ]
  },
  {
   "cell_type": "code",
   "execution_count": 389,
   "metadata": {},
   "outputs": [
    {
     "data": {
      "text/plain": [
       "LinearRegression(copy_X=True, fit_intercept=True, n_jobs=None,\n",
       "         normalize=False)"
      ]
     },
     "execution_count": 389,
     "metadata": {},
     "output_type": "execute_result"
    }
   ],
   "source": [
    "reg78psid1 = linear_model.LinearRegression()\n",
    "reg78psid1.fit(nswpsid1[['treat','age', 'education','black', 'hispanic', 'nodegree', 'agesq']],nswpsid1.re78)"
   ]
  },
  {
   "cell_type": "code",
   "execution_count": 390,
   "metadata": {},
   "outputs": [
    {
     "data": {
      "text/plain": [
       "array([12686.25922394])"
      ]
     },
     "execution_count": 390,
     "metadata": {},
     "output_type": "execute_result"
    }
   ],
   "source": [
    "reg78psid1.predict([[1, mean(nswpsid1.age), mean(nswpsid1.education), mean(nswpsid1.black), mean(nswpsid1.hispanic), mean(nswpsid1.nodegree), mean(nswpsid1.agesq)]])"
   ]
  },
  {
   "cell_type": "code",
   "execution_count": 391,
   "metadata": {},
   "outputs": [
    {
     "data": {
      "text/plain": [
       "array([20753.5813371])"
      ]
     },
     "execution_count": 391,
     "metadata": {},
     "output_type": "execute_result"
    }
   ],
   "source": [
    "reg78psid1.predict([[0, mean(nswpsid1.age), mean(nswpsid1.education), mean(nswpsid1.black), mean(nswpsid1.hispanic), mean(nswpsid1.nodegree), mean(nswpsid1.agesq)]])"
   ]
  },
  {
   "cell_type": "code",
   "execution_count": 392,
   "metadata": {},
   "outputs": [
    {
     "data": {
      "text/plain": [
       "-8068"
      ]
     },
     "execution_count": 392,
     "metadata": {},
     "output_type": "execute_result"
    }
   ],
   "source": [
    "re78psid1adj = 12686 - 20754\n",
    "re78psid1adj"
   ]
  },
  {
   "cell_type": "markdown",
   "metadata": {},
   "source": [
    "##### PSID-3:"
   ]
  },
  {
   "cell_type": "code",
   "execution_count": 393,
   "metadata": {},
   "outputs": [
    {
     "data": {
      "text/plain": [
       "LinearRegression(copy_X=True, fit_intercept=True, n_jobs=None,\n",
       "         normalize=False)"
      ]
     },
     "execution_count": 393,
     "metadata": {},
     "output_type": "execute_result"
    }
   ],
   "source": [
    "reg78psid3 = linear_model.LinearRegression()\n",
    "reg78psid3.fit(nswpsid3[['treat','age', 'education','black', 'hispanic', 'nodegree', 'agesq']],nswpsid3.re78)"
   ]
  },
  {
   "cell_type": "code",
   "execution_count": 394,
   "metadata": {},
   "outputs": [
    {
     "data": {
      "text/plain": [
       "array([5613.05005719])"
      ]
     },
     "execution_count": 394,
     "metadata": {},
     "output_type": "execute_result"
    }
   ],
   "source": [
    "reg78psid3.predict([[1, mean(nswpsid3.age), mean(nswpsid3.education), mean(nswpsid3.black), mean(nswpsid3.hispanic), mean(nswpsid3.nodegree), mean(nswpsid3.agesq)]])"
   ]
  },
  {
   "cell_type": "code",
   "execution_count": 395,
   "metadata": {},
   "outputs": [
    {
     "data": {
      "text/plain": [
       "array([6122.26561517])"
      ]
     },
     "execution_count": 395,
     "metadata": {},
     "output_type": "execute_result"
    }
   ],
   "source": [
    "reg78psid3.predict([[0, mean(nswpsid3.age), mean(nswpsid3.education), mean(nswpsid3.black), mean(nswpsid3.hispanic), mean(nswpsid3.nodegree), mean(nswpsid3.agesq)]])"
   ]
  },
  {
   "cell_type": "code",
   "execution_count": 396,
   "metadata": {},
   "outputs": [
    {
     "data": {
      "text/plain": [
       "-509"
      ]
     },
     "execution_count": 396,
     "metadata": {},
     "output_type": "execute_result"
    }
   ],
   "source": [
    "re78psid3adj = 5613 - 6122\n",
    "re78psid3adj"
   ]
  },
  {
   "cell_type": "markdown",
   "metadata": {},
   "source": [
    "##### CPS-SSA-1:"
   ]
  },
  {
   "cell_type": "code",
   "execution_count": 397,
   "metadata": {},
   "outputs": [
    {
     "data": {
      "text/plain": [
       "LinearRegression(copy_X=True, fit_intercept=True, n_jobs=None,\n",
       "         normalize=False)"
      ]
     },
     "execution_count": 397,
     "metadata": {},
     "output_type": "execute_result"
    }
   ],
   "source": [
    "reg78cps1 = linear_model.LinearRegression()\n",
    "reg78cps1.fit(nswcps1[['treat','age', 'education','black', 'hispanic', 'nodegree', 'agesq']],nswcps1.re78)"
   ]
  },
  {
   "cell_type": "code",
   "execution_count": 398,
   "metadata": {},
   "outputs": [
    {
     "data": {
      "text/plain": [
       "array([10349.23562426])"
      ]
     },
     "execution_count": 398,
     "metadata": {},
     "output_type": "execute_result"
    }
   ],
   "source": [
    "reg78cps1.predict([[1, mean(nswcps1.age), mean(nswcps1.education), mean(nswcps1.black), mean(nswcps1.hispanic), mean(nswcps1.nodegree), mean(nswcps1.agesq)]])"
   ]
  },
  {
   "cell_type": "code",
   "execution_count": 399,
   "metadata": {},
   "outputs": [
    {
     "data": {
      "text/plain": [
       "array([14765.44721875])"
      ]
     },
     "execution_count": 399,
     "metadata": {},
     "output_type": "execute_result"
    }
   ],
   "source": [
    "reg78cps1.predict([[0, mean(nswcps1.age), mean(nswcps1.education), mean(nswcps1.black), mean(nswcps1.hispanic), mean(nswcps1.nodegree), mean(nswcps1.agesq)]])"
   ]
  },
  {
   "cell_type": "code",
   "execution_count": 400,
   "metadata": {},
   "outputs": [
    {
     "data": {
      "text/plain": [
       "-4416"
      ]
     },
     "execution_count": 400,
     "metadata": {},
     "output_type": "execute_result"
    }
   ],
   "source": [
    "re78cps1adj = 10349 - 14765\n",
    "re78cps1adj"
   ]
  },
  {
   "cell_type": "markdown",
   "metadata": {},
   "source": [
    "##### CPS-SSA-2:"
   ]
  },
  {
   "cell_type": "code",
   "execution_count": 401,
   "metadata": {},
   "outputs": [
    {
     "data": {
      "text/plain": [
       "LinearRegression(copy_X=True, fit_intercept=True, n_jobs=None,\n",
       "         normalize=False)"
      ]
     },
     "execution_count": 401,
     "metadata": {},
     "output_type": "execute_result"
    }
   ],
   "source": [
    "reg78cps2 = linear_model.LinearRegression()\n",
    "reg78cps2.fit(nswcps2[['treat','age', 'education','black', 'hispanic', 'nodegree', 'agesq']],nswcps2.re78)"
   ]
  },
  {
   "cell_type": "code",
   "execution_count": 402,
   "metadata": {},
   "outputs": [
    {
     "data": {
      "text/plain": [
       "array([7623.76263814])"
      ]
     },
     "execution_count": 402,
     "metadata": {},
     "output_type": "execute_result"
    }
   ],
   "source": [
    "reg78cps2.predict([[1, mean(nswcps2.age), mean(nswcps2.education), mean(nswcps2.black), mean(nswcps2.hispanic), mean(nswcps2.nodegree), mean(nswcps2.agesq)]])"
   ]
  },
  {
   "cell_type": "code",
   "execution_count": 403,
   "metadata": {},
   "outputs": [
    {
     "data": {
      "text/plain": [
       "array([9964.57647097])"
      ]
     },
     "execution_count": 403,
     "metadata": {},
     "output_type": "execute_result"
    }
   ],
   "source": [
    "reg78cps2.predict([[0, mean(nswcps2.age), mean(nswcps2.education), mean(nswcps2.black), mean(nswcps2.hispanic), mean(nswcps2.nodegree), mean(nswcps2.agesq)]])"
   ]
  },
  {
   "cell_type": "code",
   "execution_count": 404,
   "metadata": {},
   "outputs": [
    {
     "data": {
      "text/plain": [
       "-2341"
      ]
     },
     "execution_count": 404,
     "metadata": {},
     "output_type": "execute_result"
    }
   ],
   "source": [
    "re78cps2adj = 7624 - 9965\n",
    "re78cps2adj"
   ]
  },
  {
   "cell_type": "markdown",
   "metadata": {},
   "source": [
    "##### CPS-SSA-3:"
   ]
  },
  {
   "cell_type": "code",
   "execution_count": 405,
   "metadata": {},
   "outputs": [
    {
     "data": {
      "text/plain": [
       "LinearRegression(copy_X=True, fit_intercept=True, n_jobs=None,\n",
       "         normalize=False)"
      ]
     },
     "execution_count": 405,
     "metadata": {},
     "output_type": "execute_result"
    }
   ],
   "source": [
    "reg78cps3 = linear_model.LinearRegression()\n",
    "reg78cps3.fit(nswcps3[['treat','age', 'education','black', 'hispanic', 'nodegree', 'agesq']],nswcps3.re78)"
   ]
  },
  {
   "cell_type": "code",
   "execution_count": 406,
   "metadata": {},
   "outputs": [
    {
     "data": {
      "text/plain": [
       "array([6571.02588767])"
      ]
     },
     "execution_count": 406,
     "metadata": {},
     "output_type": "execute_result"
    }
   ],
   "source": [
    "reg78cps3.predict([[1, mean(nswcps3.age), mean(nswcps3.education), mean(nswcps3.black), mean(nswcps3.hispanic), mean(nswcps3.nodegree), mean(nswcps3.agesq)]])"
   ]
  },
  {
   "cell_type": "code",
   "execution_count": 407,
   "metadata": {},
   "outputs": [
    {
     "data": {
      "text/plain": [
       "array([6572.47224973])"
      ]
     },
     "execution_count": 407,
     "metadata": {},
     "output_type": "execute_result"
    }
   ],
   "source": [
    "reg78cps3.predict([[0, mean(nswcps3.age), mean(nswcps3.education), mean(nswcps3.black), mean(nswcps3.hispanic), mean(nswcps3.nodegree), mean(nswcps3.agesq)]])"
   ]
  },
  {
   "cell_type": "code",
   "execution_count": 408,
   "metadata": {},
   "outputs": [
    {
     "data": {
      "text/plain": [
       "-1"
      ]
     },
     "execution_count": 408,
     "metadata": {},
     "output_type": "execute_result"
    }
   ],
   "source": [
    "re78cps3adj = 6571 - 6572\n",
    "re78cps3adj"
   ]
  },
  {
   "cell_type": "markdown",
   "metadata": {},
   "source": [
    "We can now recreate the first half of Table 5. We call this 'Tables 53'. We take Table 51 and add the values from Table 52 and the adjusted values."
   ]
  },
  {
   "cell_type": "code",
   "execution_count": 409,
   "metadata": {},
   "outputs": [],
   "source": [
    "Table53 = Table()\n",
    "Table53 = Table51\n",
    "Table53['Treatment Earnings 1975 Unadjusted'] = [round(nswtre75 - nswcre75), round(nswtre75 - psid1re75), round(nswtre75 - psid3re75), round(nswtre75 - cps1re75), round(nswtre75 - cps2re75), round(nswtre75 - cps3re75)]\n",
    "Table53['Treatment Earnings 1975 Adjusted'] = [re75nswadj, re75psid1adj, re75psid3adj, re75cps1adj, re75cps2adj, re75cps3adj]\n",
    "Table53['Treatment Earnings 1978 Unadjusted'] = [round(nswtre78 - nswcre78), round(nswtre78 - psid1re78), round(nswtre78 - psid3re78), round(nswtre78 - cps1re78), round(nswtre78 - cps2re78), round(nswtre78 - cps3re78)]\n",
    "Table53['Treatment Earnings 1978 Adjusted'] = [re78nswadj, re78psid1adj, re78psid3adj, re78cps1adj, re78cps2adj, re78cps3adj]"
   ]
  },
  {
   "cell_type": "code",
   "execution_count": 410,
   "metadata": {},
   "outputs": [
    {
     "data": {
      "text/html": [
       "<i>Table length=6</i>\n",
       "<table id=\"table1635233092440\" class=\"table-striped table-bordered table-condensed\">\n",
       "<thead><tr><th>Name of Comparison Group</th><th>Earnings Growth 75-78</th><th>Treatment Earnings 1975 Unadjusted</th><th>Treatment Earnings 1975 Adjusted</th><th>Treatment Earnings 1978 Unadjusted</th><th>Treatment Earnings 1978 Adjusted</th></tr></thead>\n",
       "<thead><tr><th>str9</th><th>int32</th><th>int32</th><th>int32</th><th>int32</th><th>int32</th></tr></thead>\n",
       "<tr><td>Controls</td><td>2063</td><td>39</td><td>-21</td><td>886</td><td>799</td></tr>\n",
       "<tr><td>PSID-1</td><td>2491</td><td>-15997</td><td>-7624</td><td>-15578</td><td>-8068</td></tr>\n",
       "<tr><td>PSID-3</td><td>2669</td><td>455</td><td>455</td><td>697</td><td>-509</td></tr>\n",
       "<tr><td>CPS-SSA-1</td><td>1196</td><td>-10585</td><td>-4654</td><td>-8871</td><td>-4416</td></tr>\n",
       "<tr><td>CPS-SSA-2</td><td>2774</td><td>-4331</td><td>-2119</td><td>-4195</td><td>-2341</td></tr>\n",
       "<tr><td>CPS-SSA-3</td><td>4518</td><td>600</td><td>971</td><td>-1008</td><td>-1</td></tr>\n",
       "</table>"
      ],
      "text/plain": [
       "<Table length=6>\n",
       "Name of Comparison Group ... Treatment Earnings 1978 Adjusted\n",
       "          str9           ...              int32              \n",
       "------------------------ ... --------------------------------\n",
       "                Controls ...                              799\n",
       "                  PSID-1 ...                            -8068\n",
       "                  PSID-3 ...                             -509\n",
       "               CPS-SSA-1 ...                            -4416\n",
       "               CPS-SSA-2 ...                            -2341\n",
       "               CPS-SSA-3 ...                               -1"
      ]
     },
     "execution_count": 410,
     "metadata": {},
     "output_type": "execute_result"
    }
   ],
   "source": [
    "Table53"
   ]
  },
  {
   "cell_type": "markdown",
   "metadata": {},
   "source": [
    "###### Difference in Differences Without age"
   ]
  },
  {
   "cell_type": "markdown",
   "metadata": {},
   "source": [
    "The next step is to calculate the Difference in Differnce for the Earning growth from 1975 to 1978. In the unadjusted Diff in Diff we simply have to calculate (Earnings 1978 treatment - Earnings 1978 comparison) - (Earnings 1975 treatment- Earnings 1975 comparison)"
   ]
  },
  {
   "cell_type": "code",
   "execution_count": 411,
   "metadata": {},
   "outputs": [],
   "source": [
    "didnsw = (nswtre78 - nswtre75) - (nswcre78 - nswcre75)\n",
    "didpsid1 = (nswtre78 - nswtre75) - (psid1re78 - psid1re75)\n",
    "didpsid3 = (nswtre78 - nswtre75) - (psid3re78 - psid3re75)\n",
    "didcps1 = (nswtre78 - nswtre75) - (cps1re78 - cps1re75)\n",
    "didcps2 = (nswtre78 - nswtre75) - (cps2re78 - cps2re75)\n",
    "didcps3 = (nswtre78 - nswtre75) - (cps3re78 - cps3re75)"
   ]
  },
  {
   "cell_type": "markdown",
   "metadata": {},
   "source": [
    "###### Difference in Differences With age"
   ]
  },
  {
   "cell_type": "markdown",
   "metadata": {},
   "source": [
    "Now we calculate the Dif-in-Dif adjusted for age"
   ]
  },
  {
   "cell_type": "markdown",
   "metadata": {},
   "source": [
    "To do so we have to create the column \"'Earnings in 1978' - 'Earnings in 1975'\" in our dataframe. We call this column 'dif'."
   ]
  },
  {
   "cell_type": "code",
   "execution_count": 412,
   "metadata": {},
   "outputs": [],
   "source": [
    "nsw['dif'] = nsw['re78'] - nsw['re75']"
   ]
  },
  {
   "cell_type": "markdown",
   "metadata": {},
   "source": [
    "We can now make a regression with dif as dependent variable and treatment, age and age quarred as independent variables. Then we can predict the difference in earnings for treatment and control participants, controlled for age."
   ]
  },
  {
   "cell_type": "code",
   "execution_count": 413,
   "metadata": {},
   "outputs": [
    {
     "data": {
      "text/plain": [
       "LinearRegression(copy_X=True, fit_intercept=True, n_jobs=None,\n",
       "         normalize=False)"
      ]
     },
     "execution_count": 413,
     "metadata": {},
     "output_type": "execute_result"
    }
   ],
   "source": [
    "regdifnsw = linear_model.LinearRegression()\n",
    "regdifnsw.fit(nsw[['treat','age', 'agesq']],nsw.dif)"
   ]
  },
  {
   "cell_type": "code",
   "execution_count": 414,
   "metadata": {},
   "outputs": [
    {
     "data": {
      "text/plain": [
       "array([2916.15359374])"
      ]
     },
     "execution_count": 414,
     "metadata": {},
     "output_type": "execute_result"
    }
   ],
   "source": [
    "regdifnsw.predict([[1, mean(nsw.age), mean(nsw.agesq)]])"
   ]
  },
  {
   "cell_type": "code",
   "execution_count": 415,
   "metadata": {},
   "outputs": [
    {
     "data": {
      "text/plain": [
       "array([2059.24264464])"
      ]
     },
     "execution_count": 415,
     "metadata": {},
     "output_type": "execute_result"
    }
   ],
   "source": [
    "regdifnsw.predict([[0, mean(nsw.age), mean(nsw.agesq)]])"
   ]
  },
  {
   "cell_type": "markdown",
   "metadata": {},
   "source": [
    "As last step we have to substract the differences in earnings for the treatment and control group."
   ]
  },
  {
   "cell_type": "code",
   "execution_count": 416,
   "metadata": {},
   "outputs": [],
   "source": [
    "didadjnsw = 2916 - 2059"
   ]
  },
  {
   "cell_type": "markdown",
   "metadata": {},
   "source": [
    "We repeat these steps for the PSID and CPS data."
   ]
  },
  {
   "cell_type": "markdown",
   "metadata": {},
   "source": [
    "##### PSID-1:"
   ]
  },
  {
   "cell_type": "code",
   "execution_count": 417,
   "metadata": {},
   "outputs": [],
   "source": [
    "nswpsid1['dif'] = nswpsid1['re78'] - nswpsid1['re75']"
   ]
  },
  {
   "cell_type": "code",
   "execution_count": 418,
   "metadata": {},
   "outputs": [
    {
     "data": {
      "text/plain": [
       "LinearRegression(copy_X=True, fit_intercept=True, n_jobs=None,\n",
       "         normalize=False)"
      ]
     },
     "execution_count": 418,
     "metadata": {},
     "output_type": "execute_result"
    }
   ],
   "source": [
    "regdifpsid1 = linear_model.LinearRegression()\n",
    "regdifpsid1.fit(nswpsid1[['treat','age', 'agesq']],nswpsid1.dif)"
   ]
  },
  {
   "cell_type": "code",
   "execution_count": 419,
   "metadata": {},
   "outputs": [
    {
     "data": {
      "text/plain": [
       "array([1865.93886751])"
      ]
     },
     "execution_count": 419,
     "metadata": {},
     "output_type": "execute_result"
    }
   ],
   "source": [
    "regdifpsid1.predict([[1, mean(nswpsid1.age), mean(nswpsid1.agesq)]])"
   ]
  },
  {
   "cell_type": "code",
   "execution_count": 420,
   "metadata": {},
   "outputs": [
    {
     "data": {
      "text/plain": [
       "array([2615.14608603])"
      ]
     },
     "execution_count": 420,
     "metadata": {},
     "output_type": "execute_result"
    }
   ],
   "source": [
    "regdifpsid1.predict([[0, mean(nswpsid1.age), mean(nswpsid1.agesq)]])"
   ]
  },
  {
   "cell_type": "code",
   "execution_count": 421,
   "metadata": {},
   "outputs": [],
   "source": [
    "didadjpsid1 = 1866 - 2615"
   ]
  },
  {
   "cell_type": "markdown",
   "metadata": {},
   "source": [
    "##### PSID-3:"
   ]
  },
  {
   "cell_type": "code",
   "execution_count": 422,
   "metadata": {},
   "outputs": [],
   "source": [
    "nswpsid3['dif'] = nswpsid3['re78'] - nswpsid3['re75']"
   ]
  },
  {
   "cell_type": "code",
   "execution_count": 423,
   "metadata": {},
   "outputs": [
    {
     "data": {
      "text/plain": [
       "LinearRegression(copy_X=True, fit_intercept=True, n_jobs=None,\n",
       "         normalize=False)"
      ]
     },
     "execution_count": 423,
     "metadata": {},
     "output_type": "execute_result"
    }
   ],
   "source": [
    "regdifpsid3 = linear_model.LinearRegression()\n",
    "regdifpsid3.fit(nswpsid3[['treat','age', 'agesq']],nswpsid3.dif)"
   ]
  },
  {
   "cell_type": "code",
   "execution_count": 424,
   "metadata": {},
   "outputs": [
    {
     "data": {
      "text/plain": [
       "array([2438.54529157])"
      ]
     },
     "execution_count": 424,
     "metadata": {},
     "output_type": "execute_result"
    }
   ],
   "source": [
    "regdifpsid3.predict([[1, mean(nswpsid3.age), mean(nswpsid3.agesq)]])"
   ]
  },
  {
   "cell_type": "code",
   "execution_count": 425,
   "metadata": {},
   "outputs": [
    {
     "data": {
      "text/plain": [
       "array([3763.10719288])"
      ]
     },
     "execution_count": 425,
     "metadata": {},
     "output_type": "execute_result"
    }
   ],
   "source": [
    "regdifpsid3.predict([[0, mean(nswpsid3.age), mean(nswpsid3.agesq)]])"
   ]
  },
  {
   "cell_type": "code",
   "execution_count": 426,
   "metadata": {},
   "outputs": [
    {
     "data": {
      "text/plain": [
       "-1324"
      ]
     },
     "execution_count": 426,
     "metadata": {},
     "output_type": "execute_result"
    }
   ],
   "source": [
    "didadjpsid3 = 2439 - 3763\n",
    "didadjpsid3"
   ]
  },
  {
   "cell_type": "markdown",
   "metadata": {},
   "source": [
    "##### CPS-SSA-1:"
   ]
  },
  {
   "cell_type": "code",
   "execution_count": 427,
   "metadata": {},
   "outputs": [],
   "source": [
    "nswcps1['dif'] = nswcps1['re78'] - nswcps1['re75']"
   ]
  },
  {
   "cell_type": "code",
   "execution_count": 428,
   "metadata": {},
   "outputs": [
    {
     "data": {
      "text/plain": [
       "LinearRegression(copy_X=True, fit_intercept=True, n_jobs=None,\n",
       "         normalize=False)"
      ]
     },
     "execution_count": 428,
     "metadata": {},
     "output_type": "execute_result"
    }
   ],
   "source": [
    "regdifcps1 = linear_model.LinearRegression()\n",
    "regdifcps1.fit(nswcps1[['treat','age', 'agesq']],nswcps1.dif)"
   ]
  },
  {
   "cell_type": "code",
   "execution_count": 429,
   "metadata": {},
   "outputs": [
    {
     "data": {
      "text/plain": [
       "array([1418.731062])"
      ]
     },
     "execution_count": 429,
     "metadata": {},
     "output_type": "execute_result"
    }
   ],
   "source": [
    "regdifcps1.predict([[1, mean(nswcps1.age), mean(nswcps1.agesq)]])"
   ]
  },
  {
   "cell_type": "code",
   "execution_count": 430,
   "metadata": {},
   "outputs": [
    {
     "data": {
      "text/plain": [
       "array([1223.55646855])"
      ]
     },
     "execution_count": 430,
     "metadata": {},
     "output_type": "execute_result"
    }
   ],
   "source": [
    "regdifcps1.predict([[0, mean(nswcps1.age), mean(nswcps1.agesq)]])"
   ]
  },
  {
   "cell_type": "code",
   "execution_count": 431,
   "metadata": {},
   "outputs": [
    {
     "data": {
      "text/plain": [
       "195"
      ]
     },
     "execution_count": 431,
     "metadata": {},
     "output_type": "execute_result"
    }
   ],
   "source": [
    "didadjcps1 = 1419 - 1224\n",
    "didadjcps1"
   ]
  },
  {
   "cell_type": "markdown",
   "metadata": {},
   "source": [
    "##### CPS-SSA-2:"
   ]
  },
  {
   "cell_type": "code",
   "execution_count": 432,
   "metadata": {},
   "outputs": [],
   "source": [
    "nswcps2['dif'] = nswcps2['re78'] - nswcps2['re75']"
   ]
  },
  {
   "cell_type": "code",
   "execution_count": 433,
   "metadata": {},
   "outputs": [
    {
     "data": {
      "text/plain": [
       "LinearRegression(copy_X=True, fit_intercept=True, n_jobs=None,\n",
       "         normalize=False)"
      ]
     },
     "execution_count": 433,
     "metadata": {},
     "output_type": "execute_result"
    }
   ],
   "source": [
    "regdifcps2 = linear_model.LinearRegression()\n",
    "regdifcps2.fit(nswcps2[['treat','age', 'agesq']],nswcps2.dif)"
   ]
  },
  {
   "cell_type": "code",
   "execution_count": 434,
   "metadata": {},
   "outputs": [
    {
     "data": {
      "text/plain": [
       "array([2367.19655441])"
      ]
     },
     "execution_count": 434,
     "metadata": {},
     "output_type": "execute_result"
    }
   ],
   "source": [
    "regdifcps2.predict([[1, mean(nswcps2.age), mean(nswcps2.agesq)]])"
   ]
  },
  {
   "cell_type": "code",
   "execution_count": 435,
   "metadata": {},
   "outputs": [
    {
     "data": {
      "text/plain": [
       "array([2841.95919543])"
      ]
     },
     "execution_count": 435,
     "metadata": {},
     "output_type": "execute_result"
    }
   ],
   "source": [
    "regdifcps2.predict([[0, mean(nswcps2.age), mean(nswcps2.agesq)]])"
   ]
  },
  {
   "cell_type": "code",
   "execution_count": 436,
   "metadata": {},
   "outputs": [
    {
     "data": {
      "text/plain": [
       "-475"
      ]
     },
     "execution_count": 436,
     "metadata": {},
     "output_type": "execute_result"
    }
   ],
   "source": [
    "didadjcps2 = 2367 - 2842\n",
    "didadjcps2"
   ]
  },
  {
   "cell_type": "markdown",
   "metadata": {},
   "source": [
    "##### CPS-SSA-3:"
   ]
  },
  {
   "cell_type": "code",
   "execution_count": 437,
   "metadata": {},
   "outputs": [],
   "source": [
    "nswcps3['dif'] = nswcps3['re78'] - nswcps3['re75']"
   ]
  },
  {
   "cell_type": "code",
   "execution_count": 438,
   "metadata": {},
   "outputs": [
    {
     "data": {
      "text/plain": [
       "LinearRegression(copy_X=True, fit_intercept=True, n_jobs=None,\n",
       "         normalize=False)"
      ]
     },
     "execution_count": 438,
     "metadata": {},
     "output_type": "execute_result"
    }
   ],
   "source": [
    "regdifcps3 = linear_model.LinearRegression()\n",
    "regdifcps3.fit(nswcps3[['treat','age', 'agesq']],nswcps3.dif)"
   ]
  },
  {
   "cell_type": "code",
   "execution_count": 439,
   "metadata": {},
   "outputs": [
    {
     "data": {
      "text/plain": [
       "array([2975.52584962])"
      ]
     },
     "execution_count": 439,
     "metadata": {},
     "output_type": "execute_result"
    }
   ],
   "source": [
    "regdifcps3.predict([[1, mean(nswcps3.age), mean(nswcps3.agesq)]])"
   ]
  },
  {
   "cell_type": "code",
   "execution_count": 440,
   "metadata": {},
   "outputs": [
    {
     "data": {
      "text/plain": [
       "array([4472.49699132])"
      ]
     },
     "execution_count": 440,
     "metadata": {},
     "output_type": "execute_result"
    }
   ],
   "source": [
    "regdifcps3.predict([[0, mean(nswcps3.age), mean(nswcps3.agesq)]])"
   ]
  },
  {
   "cell_type": "code",
   "execution_count": 441,
   "metadata": {},
   "outputs": [
    {
     "data": {
      "text/plain": [
       "-1496"
      ]
     },
     "execution_count": 441,
     "metadata": {},
     "output_type": "execute_result"
    }
   ],
   "source": [
    "didadjcps3 = 2976 - 4472\n",
    "didadjcps3"
   ]
  },
  {
   "cell_type": "markdown",
   "metadata": {},
   "source": [
    "###### Unrestricted Difference in Differences, Unadjusted"
   ]
  },
  {
   "cell_type": "markdown",
   "metadata": {},
   "source": [
    "In order to calculate the unrestricted difference in differences estimator, we substract the differences in earnings between treatment and comparison group, when earnings in 1975 is kept constant, i.e. treatment and earnings in 1975 are our independent variables."
   ]
  },
  {
   "cell_type": "code",
   "execution_count": 442,
   "metadata": {},
   "outputs": [
    {
     "data": {
      "text/plain": [
       "LinearRegression(copy_X=True, fit_intercept=True, n_jobs=None,\n",
       "         normalize=False)"
      ]
     },
     "execution_count": 442,
     "metadata": {},
     "output_type": "execute_result"
    }
   ],
   "source": [
    "regudifnsw = linear_model.LinearRegression()\n",
    "regudifnsw.fit(nsw[['treat', 're75']],nsw.dif)"
   ]
  },
  {
   "cell_type": "code",
   "execution_count": 443,
   "metadata": {},
   "outputs": [
    {
     "data": {
      "text/plain": [
       "array([2929.02711368])"
      ]
     },
     "execution_count": 443,
     "metadata": {},
     "output_type": "execute_result"
    }
   ],
   "source": [
    "regudifnsw.predict([[1, mean(nsw.re75)]])"
   ]
  },
  {
   "cell_type": "code",
   "execution_count": 444,
   "metadata": {},
   "outputs": [
    {
     "data": {
      "text/plain": [
       "array([2050.246413])"
      ]
     },
     "execution_count": 444,
     "metadata": {},
     "output_type": "execute_result"
    }
   ],
   "source": [
    "regudifnsw.predict([[0, mean(nsw.re75)]])"
   ]
  },
  {
   "cell_type": "code",
   "execution_count": 445,
   "metadata": {},
   "outputs": [],
   "source": [
    "udidnsw = 2929 - 2050"
   ]
  },
  {
   "cell_type": "markdown",
   "metadata": {},
   "source": [
    "##### PSID-1:"
   ]
  },
  {
   "cell_type": "code",
   "execution_count": 446,
   "metadata": {},
   "outputs": [
    {
     "data": {
      "text/plain": [
       "LinearRegression(copy_X=True, fit_intercept=True, n_jobs=None,\n",
       "         normalize=False)"
      ]
     },
     "execution_count": 446,
     "metadata": {},
     "output_type": "execute_result"
    }
   ],
   "source": [
    "regudifpsid1 = linear_model.LinearRegression()\n",
    "regudifpsid1.fit(nswpsid1[['treat', 're75']],nswpsid1.dif)"
   ]
  },
  {
   "cell_type": "code",
   "execution_count": 447,
   "metadata": {},
   "outputs": [
    {
     "data": {
      "text/plain": [
       "array([408.86357957])"
      ]
     },
     "execution_count": 447,
     "metadata": {},
     "output_type": "execute_result"
    }
   ],
   "source": [
    "regudifpsid1.predict([[1, mean(nswpsid1.re75)]])"
   ]
  },
  {
   "cell_type": "code",
   "execution_count": 448,
   "metadata": {},
   "outputs": [
    {
     "data": {
      "text/plain": [
       "array([2788.94512254])"
      ]
     },
     "execution_count": 448,
     "metadata": {},
     "output_type": "execute_result"
    }
   ],
   "source": [
    "regudifpsid1.predict([[0, mean(nswpsid1.re75)]])"
   ]
  },
  {
   "cell_type": "code",
   "execution_count": 449,
   "metadata": {},
   "outputs": [],
   "source": [
    "udidpsid1 = 409 - 2789"
   ]
  },
  {
   "cell_type": "markdown",
   "metadata": {},
   "source": [
    "##### PSID-3:"
   ]
  },
  {
   "cell_type": "code",
   "execution_count": 450,
   "metadata": {},
   "outputs": [
    {
     "data": {
      "text/plain": [
       "LinearRegression(copy_X=True, fit_intercept=True, n_jobs=None,\n",
       "         normalize=False)"
      ]
     },
     "execution_count": 450,
     "metadata": {},
     "output_type": "execute_result"
    }
   ],
   "source": [
    "regudifpsid3 = linear_model.LinearRegression()\n",
    "regudifpsid3.fit(nswpsid3[['treat', 're75']],nswpsid3.dif)"
   ]
  },
  {
   "cell_type": "code",
   "execution_count": 451,
   "metadata": {},
   "outputs": [
    {
     "data": {
      "text/plain": [
       "array([3026.88518407])"
      ]
     },
     "execution_count": 451,
     "metadata": {},
     "output_type": "execute_result"
    }
   ],
   "source": [
    "regudifpsid3.predict([[1, mean(nswpsid3.re75)]])"
   ]
  },
  {
   "cell_type": "code",
   "execution_count": 452,
   "metadata": {},
   "outputs": [
    {
     "data": {
      "text/plain": [
       "array([2397.97826268])"
      ]
     },
     "execution_count": 452,
     "metadata": {},
     "output_type": "execute_result"
    }
   ],
   "source": [
    "regudifpsid3.predict([[0, mean(nswpsid3.re75)]])"
   ]
  },
  {
   "cell_type": "code",
   "execution_count": 453,
   "metadata": {},
   "outputs": [
    {
     "data": {
      "text/plain": [
       "629"
      ]
     },
     "execution_count": 453,
     "metadata": {},
     "output_type": "execute_result"
    }
   ],
   "source": [
    "udidpsid3 = 3027 - 2398\n",
    "udidpsid3"
   ]
  },
  {
   "cell_type": "markdown",
   "metadata": {},
   "source": [
    "##### CPS-SSA-1:"
   ]
  },
  {
   "cell_type": "code",
   "execution_count": 454,
   "metadata": {},
   "outputs": [
    {
     "data": {
      "text/plain": [
       "LinearRegression(copy_X=True, fit_intercept=True, n_jobs=None,\n",
       "         normalize=False)"
      ]
     },
     "execution_count": 454,
     "metadata": {},
     "output_type": "execute_result"
    }
   ],
   "source": [
    "regudifcps1 = linear_model.LinearRegression()\n",
    "regudifcps1.fit(nswcps1[['treat', 're75']],nswcps1.dif)"
   ]
  },
  {
   "cell_type": "code",
   "execution_count": 455,
   "metadata": {},
   "outputs": [
    {
     "data": {
      "text/plain": [
       "array([-288.29321213])"
      ]
     },
     "execution_count": 455,
     "metadata": {},
     "output_type": "execute_result"
    }
   ],
   "source": [
    "regudifcps1.predict([[1, mean(nswcps1.re75)]])"
   ]
  },
  {
   "cell_type": "code",
   "execution_count": 456,
   "metadata": {},
   "outputs": [
    {
     "data": {
      "text/plain": [
       "array([1255.21826248])"
      ]
     },
     "execution_count": 456,
     "metadata": {},
     "output_type": "execute_result"
    }
   ],
   "source": [
    "regudifcps1.predict([[0, mean(nswcps1.re75)]])"
   ]
  },
  {
   "cell_type": "code",
   "execution_count": 457,
   "metadata": {},
   "outputs": [
    {
     "data": {
      "text/plain": [
       "-1543"
      ]
     },
     "execution_count": 457,
     "metadata": {},
     "output_type": "execute_result"
    }
   ],
   "source": [
    "udidcps1 = -288 - 1255\n",
    "udidcps1"
   ]
  },
  {
   "cell_type": "markdown",
   "metadata": {},
   "source": [
    "##### CPS-SSA-2:"
   ]
  },
  {
   "cell_type": "code",
   "execution_count": 458,
   "metadata": {},
   "outputs": [
    {
     "data": {
      "text/plain": [
       "LinearRegression(copy_X=True, fit_intercept=True, n_jobs=None,\n",
       "         normalize=False)"
      ]
     },
     "execution_count": 458,
     "metadata": {},
     "output_type": "execute_result"
    }
   ],
   "source": [
    "regudifcps2 = linear_model.LinearRegression()\n",
    "regudifcps2.fit(nswcps2[['treat', 're75']],nswcps2.dif)"
   ]
  },
  {
   "cell_type": "code",
   "execution_count": 459,
   "metadata": {},
   "outputs": [
    {
     "data": {
      "text/plain": [
       "array([1323.82167511])"
      ]
     },
     "execution_count": 459,
     "metadata": {},
     "output_type": "execute_result"
    }
   ],
   "source": [
    "regudifcps2.predict([[1, mean(nswcps2.re75)]])"
   ]
  },
  {
   "cell_type": "code",
   "execution_count": 460,
   "metadata": {},
   "outputs": [
    {
     "data": {
      "text/plain": [
       "array([2972.76686554])"
      ]
     },
     "execution_count": 460,
     "metadata": {},
     "output_type": "execute_result"
    }
   ],
   "source": [
    "regudifcps2.predict([[0, mean(nswcps2.re75)]])"
   ]
  },
  {
   "cell_type": "code",
   "execution_count": 461,
   "metadata": {},
   "outputs": [
    {
     "data": {
      "text/plain": [
       "-1649"
      ]
     },
     "execution_count": 461,
     "metadata": {},
     "output_type": "execute_result"
    }
   ],
   "source": [
    "udidcps2 = 1324 - 2973\n",
    "udidcps2"
   ]
  },
  {
   "cell_type": "markdown",
   "metadata": {},
   "source": [
    "##### CPS-SSA-3:"
   ]
  },
  {
   "cell_type": "code",
   "execution_count": 462,
   "metadata": {},
   "outputs": [
    {
     "data": {
      "text/plain": [
       "LinearRegression(copy_X=True, fit_intercept=True, n_jobs=None,\n",
       "         normalize=False)"
      ]
     },
     "execution_count": 462,
     "metadata": {},
     "output_type": "execute_result"
    }
   ],
   "source": [
    "regudifcps3 = linear_model.LinearRegression()\n",
    "regudifcps3.fit(nswcps3[['treat', 're75']],nswcps3.dif)"
   ]
  },
  {
   "cell_type": "code",
   "execution_count": 463,
   "metadata": {},
   "outputs": [
    {
     "data": {
      "text/plain": [
       "array([3148.37921699])"
      ]
     },
     "execution_count": 463,
     "metadata": {},
     "output_type": "execute_result"
    }
   ],
   "source": [
    "regudifcps3.predict([[1, mean(nswcps3.re75)]])"
   ]
  },
  {
   "cell_type": "code",
   "execution_count": 464,
   "metadata": {},
   "outputs": [
    {
     "data": {
      "text/plain": [
       "array([4352.82965644])"
      ]
     },
     "execution_count": 464,
     "metadata": {},
     "output_type": "execute_result"
    }
   ],
   "source": [
    "regudifcps3.predict([[0, mean(nswcps3.re75)]])"
   ]
  },
  {
   "cell_type": "code",
   "execution_count": 465,
   "metadata": {},
   "outputs": [
    {
     "data": {
      "text/plain": [
       "-1205"
      ]
     },
     "execution_count": 465,
     "metadata": {},
     "output_type": "execute_result"
    }
   ],
   "source": [
    "udidcps3 = 3148 - 4353\n",
    "udidcps3"
   ]
  },
  {
   "cell_type": "markdown",
   "metadata": {},
   "source": [
    "###### Unrestricted Difference in Differences, Adjusted"
   ]
  },
  {
   "cell_type": "markdown",
   "metadata": {},
   "source": [
    "For the adjusted unrestriced Difference in differences estimator we use more independent variables."
   ]
  },
  {
   "cell_type": "code",
   "execution_count": 466,
   "metadata": {},
   "outputs": [
    {
     "data": {
      "text/plain": [
       "LinearRegression(copy_X=True, fit_intercept=True, n_jobs=None,\n",
       "         normalize=False)"
      ]
     },
     "execution_count": 466,
     "metadata": {},
     "output_type": "execute_result"
    }
   ],
   "source": [
    "regudifnswa = linear_model.LinearRegression()\n",
    "regudifnswa.fit(nsw[['treat','age', 'education','black', 'hispanic', 'nodegree', 'agesq', 're75']],nsw.dif)"
   ]
  },
  {
   "cell_type": "code",
   "execution_count": 467,
   "metadata": {},
   "outputs": [
    {
     "data": {
      "text/plain": [
       "array([2883.85953327])"
      ]
     },
     "execution_count": 467,
     "metadata": {},
     "output_type": "execute_result"
    }
   ],
   "source": [
    "regudifnswa.predict([[1, mean(nsw.age), mean(nsw.education), mean(nsw.black), mean(nsw.hispanic), mean(nsw.nodegree), mean(nsw.agesq), mean(nsw.re75)]])"
   ]
  },
  {
   "cell_type": "code",
   "execution_count": 468,
   "metadata": {},
   "outputs": [
    {
     "data": {
      "text/plain": [
       "array([2081.81097573])"
      ]
     },
     "execution_count": 468,
     "metadata": {},
     "output_type": "execute_result"
    }
   ],
   "source": [
    "regudifnswa.predict([[0, mean(nsw.age), mean(nsw.education), mean(nsw.black), mean(nsw.hispanic), mean(nsw.nodegree), mean(nsw.agesq), mean(nsw.re75)]])"
   ]
  },
  {
   "cell_type": "code",
   "execution_count": 469,
   "metadata": {},
   "outputs": [
    {
     "data": {
      "text/plain": [
       "802"
      ]
     },
     "execution_count": 469,
     "metadata": {},
     "output_type": "execute_result"
    }
   ],
   "source": [
    "udidnswa = 2884 - 2082\n",
    "udidnswa"
   ]
  },
  {
   "cell_type": "markdown",
   "metadata": {},
   "source": [
    "##### PSID-1:"
   ]
  },
  {
   "cell_type": "code",
   "execution_count": 470,
   "metadata": {},
   "outputs": [
    {
     "data": {
      "text/plain": [
       "LinearRegression(copy_X=True, fit_intercept=True, n_jobs=None,\n",
       "         normalize=False)"
      ]
     },
     "execution_count": 470,
     "metadata": {},
     "output_type": "execute_result"
    }
   ],
   "source": [
    "regudifpsid1a = linear_model.LinearRegression()\n",
    "regudifpsid1a.fit(nswpsid1[['treat','age', 'education','black', 'hispanic', 'nodegree', 'agesq', 're75']],nswpsid1.dif)"
   ]
  },
  {
   "cell_type": "code",
   "execution_count": 471,
   "metadata": {},
   "outputs": [
    {
     "data": {
      "text/plain": [
       "array([642.48343767])"
      ]
     },
     "execution_count": 471,
     "metadata": {},
     "output_type": "execute_result"
    }
   ],
   "source": [
    "regudifpsid1a.predict([[1, mean(nswpsid1.age), mean(nswpsid1.education), mean(nswpsid1.black), mean(nswpsid1.hispanic), mean(nswpsid1.nodegree), mean(nswpsid1.agesq), mean(nswpsid1.re75)]])"
   ]
  },
  {
   "cell_type": "code",
   "execution_count": 472,
   "metadata": {},
   "outputs": [
    {
     "data": {
      "text/plain": [
       "array([2761.08012124])"
      ]
     },
     "execution_count": 472,
     "metadata": {},
     "output_type": "execute_result"
    }
   ],
   "source": [
    "regudifpsid1a.predict([[0, mean(nswpsid1.age), mean(nswpsid1.education), mean(nswpsid1.black), mean(nswpsid1.hispanic), mean(nswpsid1.nodegree), mean(nswpsid1.agesq), mean(nswpsid1.re75)]])"
   ]
  },
  {
   "cell_type": "code",
   "execution_count": 473,
   "metadata": {},
   "outputs": [
    {
     "data": {
      "text/plain": [
       "-2119"
      ]
     },
     "execution_count": 473,
     "metadata": {},
     "output_type": "execute_result"
    }
   ],
   "source": [
    "udidpsid1a = 642 - 2761\n",
    "udidpsid1a"
   ]
  },
  {
   "cell_type": "markdown",
   "metadata": {},
   "source": [
    "##### PSID-3:"
   ]
  },
  {
   "cell_type": "code",
   "execution_count": 474,
   "metadata": {},
   "outputs": [
    {
     "data": {
      "text/plain": [
       "LinearRegression(copy_X=True, fit_intercept=True, n_jobs=None,\n",
       "         normalize=False)"
      ]
     },
     "execution_count": 474,
     "metadata": {},
     "output_type": "execute_result"
    }
   ],
   "source": [
    "regudifpsid3a = linear_model.LinearRegression()\n",
    "regudifpsid3a.fit(nswpsid3[['treat','age', 'education','black', 'hispanic', 'nodegree', 'agesq', 're75']],nswpsid3.dif)"
   ]
  },
  {
   "cell_type": "code",
   "execution_count": 475,
   "metadata": {},
   "outputs": [
    {
     "data": {
      "text/plain": [
       "array([2671.208132])"
      ]
     },
     "execution_count": 475,
     "metadata": {},
     "output_type": "execute_result"
    }
   ],
   "source": [
    "regudifpsid3a.predict([[1, mean(nswpsid3.age), mean(nswpsid3.education), mean(nswpsid3.black), mean(nswpsid3.hispanic), mean(nswpsid3.nodegree), mean(nswpsid3.agesq), mean(nswpsid3.re75)]])"
   ]
  },
  {
   "cell_type": "code",
   "execution_count": 476,
   "metadata": {},
   "outputs": [
    {
     "data": {
      "text/plain": [
       "array([3223.25956288])"
      ]
     },
     "execution_count": 476,
     "metadata": {},
     "output_type": "execute_result"
    }
   ],
   "source": [
    "regudifpsid3a.predict([[0, mean(nswpsid3.age), mean(nswpsid3.education), mean(nswpsid3.black), mean(nswpsid3.hispanic), mean(nswpsid3.nodegree), mean(nswpsid3.agesq), mean(nswpsid3.re75)]])"
   ]
  },
  {
   "cell_type": "code",
   "execution_count": 477,
   "metadata": {},
   "outputs": [
    {
     "data": {
      "text/plain": [
       "-552"
      ]
     },
     "execution_count": 477,
     "metadata": {},
     "output_type": "execute_result"
    }
   ],
   "source": [
    "udidpsid3a = 2671 - 3223\n",
    "udidpsid3a"
   ]
  },
  {
   "cell_type": "markdown",
   "metadata": {},
   "source": [
    "##### CPS-SSA-1:"
   ]
  },
  {
   "cell_type": "code",
   "execution_count": 478,
   "metadata": {},
   "outputs": [
    {
     "data": {
      "text/plain": [
       "LinearRegression(copy_X=True, fit_intercept=True, n_jobs=None,\n",
       "         normalize=False)"
      ]
     },
     "execution_count": 478,
     "metadata": {},
     "output_type": "execute_result"
    }
   ],
   "source": [
    "regudifcps1a = linear_model.LinearRegression()\n",
    "regudifcps1a.fit(nswcps1[['treat','age', 'education','black', 'hispanic', 'nodegree', 'agesq', 're75']],nswcps1.dif)"
   ]
  },
  {
   "cell_type": "code",
   "execution_count": 479,
   "metadata": {},
   "outputs": [
    {
     "data": {
      "text/plain": [
       "array([144.8538476])"
      ]
     },
     "execution_count": 479,
     "metadata": {},
     "output_type": "execute_result"
    }
   ],
   "source": [
    "regudifcps1a.predict([[1, mean(nswcps1.age), mean(nswcps1.education), mean(nswcps1.black), mean(nswcps1.hispanic), mean(nswcps1.nodegree), mean(nswcps1.agesq), mean(nswcps1.re75)]])"
   ]
  },
  {
   "cell_type": "code",
   "execution_count": 480,
   "metadata": {},
   "outputs": [
    {
     "data": {
      "text/plain": [
       "array([1247.17629803])"
      ]
     },
     "execution_count": 480,
     "metadata": {},
     "output_type": "execute_result"
    }
   ],
   "source": [
    "regudifcps1a.predict([[0, mean(nswcps1.age), mean(nswcps1.education), mean(nswcps1.black), mean(nswcps1.hispanic), mean(nswcps1.nodegree), mean(nswcps1.agesq), mean(nswcps1.re75)]])"
   ]
  },
  {
   "cell_type": "code",
   "execution_count": 481,
   "metadata": {},
   "outputs": [
    {
     "data": {
      "text/plain": [
       "-1102"
      ]
     },
     "execution_count": 481,
     "metadata": {},
     "output_type": "execute_result"
    }
   ],
   "source": [
    "udidcps1a = 145 - 1247\n",
    "udidcps1a"
   ]
  },
  {
   "cell_type": "markdown",
   "metadata": {},
   "source": [
    "##### CPS-SSA-2:"
   ]
  },
  {
   "cell_type": "code",
   "execution_count": 482,
   "metadata": {},
   "outputs": [
    {
     "data": {
      "text/plain": [
       "LinearRegression(copy_X=True, fit_intercept=True, n_jobs=None,\n",
       "         normalize=False)"
      ]
     },
     "execution_count": 482,
     "metadata": {},
     "output_type": "execute_result"
    }
   ],
   "source": [
    "regudifcps2a = linear_model.LinearRegression()\n",
    "regudifcps2a.fit(nswcps2[['treat','age', 'education','black', 'hispanic', 'nodegree', 'agesq', 're75']],nswcps2.dif)"
   ]
  },
  {
   "cell_type": "code",
   "execution_count": 483,
   "metadata": {},
   "outputs": [
    {
     "data": {
      "text/plain": [
       "array([1786.26207465])"
      ]
     },
     "execution_count": 483,
     "metadata": {},
     "output_type": "execute_result"
    }
   ],
   "source": [
    "regudifcps2a.predict([[1, mean(nswcps2.age), mean(nswcps2.education), mean(nswcps2.black), mean(nswcps2.hispanic), mean(nswcps2.nodegree), mean(nswcps2.agesq), mean(nswcps2.re75)]])"
   ]
  },
  {
   "cell_type": "code",
   "execution_count": 484,
   "metadata": {},
   "outputs": [
    {
     "data": {
      "text/plain": [
       "array([2914.79096506])"
      ]
     },
     "execution_count": 484,
     "metadata": {},
     "output_type": "execute_result"
    }
   ],
   "source": [
    "regudifcps2a.predict([[0, mean(nswcps2.age), mean(nswcps2.education), mean(nswcps2.black), mean(nswcps2.hispanic), mean(nswcps2.nodegree), mean(nswcps2.agesq), mean(nswcps2.re75)]])"
   ]
  },
  {
   "cell_type": "code",
   "execution_count": 485,
   "metadata": {},
   "outputs": [
    {
     "data": {
      "text/plain": [
       "-1129"
      ]
     },
     "execution_count": 485,
     "metadata": {},
     "output_type": "execute_result"
    }
   ],
   "source": [
    "udidcps2a = 1786 - 2915\n",
    "udidcps2a"
   ]
  },
  {
   "cell_type": "markdown",
   "metadata": {},
   "source": [
    "##### CPS-SSA-3:"
   ]
  },
  {
   "cell_type": "code",
   "execution_count": 486,
   "metadata": {},
   "outputs": [
    {
     "data": {
      "text/plain": [
       "LinearRegression(copy_X=True, fit_intercept=True, n_jobs=None,\n",
       "         normalize=False)"
      ]
     },
     "execution_count": 486,
     "metadata": {},
     "output_type": "execute_result"
    }
   ],
   "source": [
    "regudifcps3a = linear_model.LinearRegression()\n",
    "regudifcps3a.fit(nswcps3[['treat','age', 'education','black', 'hispanic', 'nodegree', 'agesq', 're75']],nswcps3.dif)"
   ]
  },
  {
   "cell_type": "code",
   "execution_count": 487,
   "metadata": {},
   "outputs": [
    {
     "data": {
      "text/plain": [
       "array([3704.73514774])"
      ]
     },
     "execution_count": 487,
     "metadata": {},
     "output_type": "execute_result"
    }
   ],
   "source": [
    "regudifcps3a.predict([[1, mean(nswcps3.age), mean(nswcps3.education), mean(nswcps3.black), mean(nswcps3.hispanic), mean(nswcps3.nodegree), mean(nswcps3.agesq), mean(nswcps3.re75)]])"
   ]
  },
  {
   "cell_type": "code",
   "execution_count": 488,
   "metadata": {},
   "outputs": [
    {
     "data": {
      "text/plain": [
       "array([3967.65951141])"
      ]
     },
     "execution_count": 488,
     "metadata": {},
     "output_type": "execute_result"
    }
   ],
   "source": [
    "regudifcps3a.predict([[0, mean(nswcps3.age), mean(nswcps3.education), mean(nswcps3.black), mean(nswcps3.hispanic), mean(nswcps3.nodegree), mean(nswcps3.agesq), mean(nswcps3.re75)]])"
   ]
  },
  {
   "cell_type": "code",
   "execution_count": 489,
   "metadata": {},
   "outputs": [
    {
     "data": {
      "text/plain": [
       "-263"
      ]
     },
     "execution_count": 489,
     "metadata": {},
     "output_type": "execute_result"
    }
   ],
   "source": [
    "udidcps3a = 3705 - 3968\n",
    "udidcps3a"
   ]
  },
  {
   "cell_type": "markdown",
   "metadata": {},
   "source": [
    "We can now recreate Table 5 entirely exept for column 10, which includes data, that we do not have"
   ]
  },
  {
   "cell_type": "code",
   "execution_count": 490,
   "metadata": {},
   "outputs": [
    {
     "data": {
      "text/html": [
       "<i>Table length=6</i>\n",
       "<table id=\"table1635233092440\" class=\"table-striped table-bordered table-condensed\">\n",
       "<thead><tr><th>Name of Comparison Group</th><th>Earnings Growth 75-78</th><th>Treatment Earnings 1975 Unadjusted</th><th>Treatment Earnings 1975 Adjusted</th><th>Treatment Earnings 1978 Unadjusted</th><th>Treatment Earnings 1978 Adjusted</th><th>Diff in Diff Without age</th><th>Diff in Diff With Age</th><th>Unrestricted Diff in Diff Unadjusted</th><th>Unrestricted Diff in Diff Adjusted</th></tr></thead>\n",
       "<thead><tr><th>str9</th><th>int32</th><th>int32</th><th>int32</th><th>int32</th><th>int32</th><th>int32</th><th>int32</th><th>int32</th><th>int32</th></tr></thead>\n",
       "<tr><td>Controls</td><td>2063</td><td>39</td><td>-21</td><td>886</td><td>799</td><td>847</td><td>857</td><td>879</td><td>802</td></tr>\n",
       "<tr><td>PSID-1</td><td>2491</td><td>-15997</td><td>-7624</td><td>-15578</td><td>-8068</td><td>420</td><td>-749</td><td>-2380</td><td>-2119</td></tr>\n",
       "<tr><td>PSID-3</td><td>2669</td><td>455</td><td>455</td><td>697</td><td>-509</td><td>242</td><td>-1324</td><td>629</td><td>-552</td></tr>\n",
       "<tr><td>CPS-SSA-1</td><td>1196</td><td>-10585</td><td>-4654</td><td>-8871</td><td>-4416</td><td>1714</td><td>195</td><td>-1543</td><td>-1102</td></tr>\n",
       "<tr><td>CPS-SSA-2</td><td>2774</td><td>-4331</td><td>-2119</td><td>-4195</td><td>-2341</td><td>136</td><td>-475</td><td>-1649</td><td>-1129</td></tr>\n",
       "<tr><td>CPS-SSA-3</td><td>4518</td><td>600</td><td>971</td><td>-1008</td><td>-1</td><td>-1607</td><td>-1496</td><td>-1205</td><td>-263</td></tr>\n",
       "</table>"
      ],
      "text/plain": [
       "<Table length=6>\n",
       "Name of Comparison Group ... Unrestricted Diff in Diff Adjusted\n",
       "          str9           ...               int32               \n",
       "------------------------ ... ----------------------------------\n",
       "                Controls ...                                802\n",
       "                  PSID-1 ...                              -2119\n",
       "                  PSID-3 ...                               -552\n",
       "               CPS-SSA-1 ...                              -1102\n",
       "               CPS-SSA-2 ...                              -1129\n",
       "               CPS-SSA-3 ...                               -263"
      ]
     },
     "execution_count": 490,
     "metadata": {},
     "output_type": "execute_result"
    }
   ],
   "source": [
    "Table5 = Table()\n",
    "Table5 = Table53\n",
    "Table5['Diff in Diff Without age'] = [round(didnsw), round(didpsid1), round(didpsid3), round(didcps1), round(didcps2), round(didcps3)]\n",
    "Table5['Diff in Diff With Age'] = [didadjnsw, didadjpsid1, didadjpsid3, didadjcps1, didadjcps2, didadjcps3]\n",
    "Table5['Unrestricted Diff in Diff Unadjusted'] = [udidnsw, udidpsid1, udidpsid3, udidcps1, udidcps2, udidcps3]\n",
    "Table5['Unrestricted Diff in Diff Adjusted'] = [udidnswa, udidpsid1a, udidpsid3a, udidcps1a, udidcps2a, udidcps3a]\n",
    "Table5"
   ]
  }
 ],
 "metadata": {
  "kernelspec": {
   "display_name": "Python 3",
   "language": "python",
   "name": "python3"
  },
  "language_info": {
   "codemirror_mode": {
    "name": "ipython",
    "version": 3
   },
   "file_extension": ".py",
   "mimetype": "text/x-python",
   "name": "python",
   "nbconvert_exporter": "python",
   "pygments_lexer": "ipython3",
   "version": "3.7.3"
  }
 },
 "nbformat": 4,
 "nbformat_minor": 2
}
